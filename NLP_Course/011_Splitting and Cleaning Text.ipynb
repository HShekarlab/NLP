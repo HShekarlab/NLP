{
  "nbformat": 4,
  "nbformat_minor": 0,
  "metadata": {
    "colab": {
      "provenance": []
    },
    "kernelspec": {
      "name": "python3",
      "display_name": "Python 3"
    },
    "language_info": {
      "name": "python"
    }
  },
  "cells": [
    {
      "cell_type": "code",
      "source": [
        "import spacy"
      ],
      "metadata": {
        "id": "_ZsTUMqdgxIr"
      },
      "execution_count": null,
      "outputs": []
    },
    {
      "cell_type": "code",
      "source": [
        "nlp = spacy.load(\"en_core_web_sm\")"
      ],
      "metadata": {
        "id": "aZz7jKn_g7C8"
      },
      "execution_count": null,
      "outputs": []
    },
    {
      "cell_type": "code",
      "source": [
        "text = \"We must act quickly to reverse this damaging trend and protect our planet. Voluntary biodiversity credits - proactive investments from companies, nations and even individuals to protect wildlife - vould be a powerful\""
      ],
      "metadata": {
        "id": "NVOYqKbRhi7Z"
      },
      "execution_count": null,
      "outputs": []
    },
    {
      "cell_type": "code",
      "source": [
        "doc = nlp(text)"
      ],
      "metadata": {
        "id": "V7exozNBeqsP"
      },
      "execution_count": null,
      "outputs": []
    },
    {
      "cell_type": "code",
      "source": [
        "sentences = [sentence.text for sentence in doc.sents]"
      ],
      "metadata": {
        "id": "Zli22yFghuMI"
      },
      "execution_count": null,
      "outputs": []
    },
    {
      "cell_type": "code",
      "source": [
        "print(f\"We have split the above into {len(sentences)} sentences: \\n\\n 1.{sentences[0]}\\n2. {sentences}\")"
      ],
      "metadata": {
        "colab": {
          "base_uri": "https://localhost:8080/"
        },
        "id": "aMMJ2HRVgMCP",
        "outputId": "115a4b5e-bcc3-4d7a-aa53-2fe361189e6d"
      },
      "execution_count": null,
      "outputs": [
        {
          "output_type": "stream",
          "name": "stdout",
          "text": [
            "We have split the above into 2 sentences: \n",
            "\n",
            " 1.We must act quickly to reverse this damaging trend and protect our planet.\n",
            "2. ['We must act quickly to reverse this damaging trend and protect our planet.', 'Voluntary biodiversity credits - proactive investments from companies, nations and even individuals to protect wildlife - vould be a powerful']\n"
          ]
        }
      ]
    },
    {
      "cell_type": "code",
      "source": [
        "token_without_punc = [token for token in doc if not token.is_punct]\n",
        "token_without_punc"
      ],
      "metadata": {
        "colab": {
          "base_uri": "https://localhost:8080/"
        },
        "id": "HE4wmL6YhvHo",
        "outputId": "9bbecab8-c6d7-4606-c01e-9dcb8ae8947b"
      },
      "execution_count": null,
      "outputs": [
        {
          "output_type": "execute_result",
          "data": {
            "text/plain": [
              "[We,\n",
              " must,\n",
              " act,\n",
              " quickly,\n",
              " to,\n",
              " reverse,\n",
              " this,\n",
              " damaging,\n",
              " trend,\n",
              " and,\n",
              " protect,\n",
              " our,\n",
              " planet,\n",
              " Voluntary,\n",
              " biodiversity,\n",
              " credits,\n",
              " proactive,\n",
              " investments,\n",
              " from,\n",
              " companies,\n",
              " nations,\n",
              " and,\n",
              " even,\n",
              " individuals,\n",
              " to,\n",
              " protect,\n",
              " wildlife,\n",
              " vould,\n",
              " be,\n",
              " a,\n",
              " powerful]"
            ]
          },
          "metadata": {},
          "execution_count": 7
        }
      ]
    }
  ]
}