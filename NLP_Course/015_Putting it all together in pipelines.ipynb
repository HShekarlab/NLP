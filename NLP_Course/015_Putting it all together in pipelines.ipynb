{
  "nbformat": 4,
  "nbformat_minor": 0,
  "metadata": {
    "colab": {
      "provenance": []
    },
    "kernelspec": {
      "name": "python3",
      "display_name": "Python 3"
    },
    "language_info": {
      "name": "python"
    }
  },
  "cells": [
    {
      "cell_type": "code",
      "source": [
        "import spacy"
      ],
      "metadata": {
        "id": "_ZsTUMqdgxIr"
      },
      "execution_count": 1,
      "outputs": []
    },
    {
      "cell_type": "code",
      "source": [
        "nlp = spacy.load(\"en_core_web_sm\")"
      ],
      "metadata": {
        "id": "aZz7jKn_g7C8"
      },
      "execution_count": 2,
      "outputs": []
    },
    {
      "cell_type": "code",
      "source": [
        "print(nlp.pipeline)"
      ],
      "metadata": {
        "colab": {
          "base_uri": "https://localhost:8080/"
        },
        "id": "F2Vv55iGpT5h",
        "outputId": "d1c5035a-8dc3-4a28-cea9-0af417224eb7"
      },
      "execution_count": 3,
      "outputs": [
        {
          "output_type": "stream",
          "name": "stdout",
          "text": [
            "[('tok2vec', <spacy.pipeline.tok2vec.Tok2Vec object at 0x7b3039559480>), ('tagger', <spacy.pipeline.tagger.Tagger object at 0x7b30395598a0>), ('parser', <spacy.pipeline.dep_parser.DependencyParser object at 0x7b303d456c00>), ('attribute_ruler', <spacy.pipeline.attributeruler.AttributeRuler object at 0x7b3039460900>), ('lemmatizer', <spacy.lang.en.lemmatizer.EnglishLemmatizer object at 0x7b3039593600>), ('ner', <spacy.pipeline.ner.EntityRecognizer object at 0x7b3039626960>)]\n"
          ]
        }
      ]
    },
    {
      "cell_type": "code",
      "source": [
        "nlp.pipe_names"
      ],
      "metadata": {
        "colab": {
          "base_uri": "https://localhost:8080/"
        },
        "id": "R6WR879epdhM",
        "outputId": "b03e5eef-7c65-4461-8f2b-18b1fabc319d"
      },
      "execution_count": 4,
      "outputs": [
        {
          "output_type": "execute_result",
          "data": {
            "text/plain": [
              "['tok2vec', 'tagger', 'parser', 'attribute_ruler', 'lemmatizer', 'ner']"
            ]
          },
          "metadata": {},
          "execution_count": 4
        }
      ]
    },
    {
      "cell_type": "code",
      "source": [
        "nlp_2 = spacy.load(\"en_core_web_sm\", disable= [\"tagger\", \"parser\", \"ner\"])"
      ],
      "metadata": {
        "id": "t_J1Tn6Kpj3f"
      },
      "execution_count": 5,
      "outputs": []
    },
    {
      "cell_type": "code",
      "source": [
        "nlp_2.pipe_names"
      ],
      "metadata": {
        "colab": {
          "base_uri": "https://localhost:8080/"
        },
        "id": "NOr5ChWaqCSj",
        "outputId": "bb9043ea-dc93-4e5a-fac5-dbada01bc5b3"
      },
      "execution_count": 6,
      "outputs": [
        {
          "output_type": "execute_result",
          "data": {
            "text/plain": [
              "['tok2vec', 'attribute_ruler', 'lemmatizer']"
            ]
          },
          "metadata": {},
          "execution_count": 6
        }
      ]
    }
  ]
}