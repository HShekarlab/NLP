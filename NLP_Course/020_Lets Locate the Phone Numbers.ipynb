{
  "nbformat": 4,
  "nbformat_minor": 0,
  "metadata": {
    "colab": {
      "provenance": []
    },
    "kernelspec": {
      "name": "python3",
      "display_name": "Python 3"
    },
    "language_info": {
      "name": "python"
    }
  },
  "cells": [
    {
      "cell_type": "code",
      "source": [
        "import spacy\n",
        "from spacy.matcher import Matcher"
      ],
      "metadata": {
        "id": "7cYT1FH7YMc_"
      },
      "execution_count": 1,
      "outputs": []
    },
    {
      "cell_type": "code",
      "source": [
        "nlp = spacy.load(\"en_core_web_sm\")"
      ],
      "metadata": {
        "id": "QtddtUKNYMIc"
      },
      "execution_count": 2,
      "outputs": []
    },
    {
      "cell_type": "code",
      "source": [
        "doc_1 = nlp(\"You can call my office on +1 (876) 567-3567 or email me directly.\")\n",
        "doc_2 = nlp(\"You can call me on (444) 505 2423 or text me.\")"
      ],
      "metadata": {
        "id": "VoIx7Ftse3B7"
      },
      "execution_count": 3,
      "outputs": []
    },
    {
      "cell_type": "code",
      "source": [
        "pattern = [{\"TEXT\": \"+1\", \"OP\": \"?\"},\n",
        "           {\"TEXT\": \"(\"},\n",
        "           {\"SHAPE\": \"ddd\"},\n",
        "           {\"TEXT\": \")\"},\n",
        "           {\"SHAPE\": \"ddd\"},\n",
        "           {\"TEXT\": \"-\"},\n",
        "           {\"OP\": \"?\"},\n",
        "           {\"SHAPE\": \"dddd\"}]"
      ],
      "metadata": {
        "id": "XbOcB9_ifagi"
      },
      "execution_count": 4,
      "outputs": []
    },
    {
      "cell_type": "code",
      "source": [
        "matcher = Matcher(nlp.vocab)\n",
        "matcher.add(\"usPhonNum\", [pattern])"
      ],
      "metadata": {
        "id": "EXC_zfSwgSI2"
      },
      "execution_count": 5,
      "outputs": []
    },
    {
      "cell_type": "code",
      "source": [
        "for mid, start, end in matcher(doc_1):\n",
        "  print(start, end, doc_1[start:end])"
      ],
      "metadata": {
        "colab": {
          "base_uri": "https://localhost:8080/"
        },
        "id": "jEJ--WBvhEvx",
        "outputId": "b93c2a1e-bb05-415b-da03-b1f548e7a265"
      },
      "execution_count": 6,
      "outputs": [
        {
          "output_type": "stream",
          "name": "stdout",
          "text": [
            "6 13 +1 (876) 567-3567\n",
            "7 13 (876) 567-3567\n"
          ]
        }
      ]
    }
  ]
}