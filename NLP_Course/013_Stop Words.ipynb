{
  "nbformat": 4,
  "nbformat_minor": 0,
  "metadata": {
    "colab": {
      "provenance": []
    },
    "kernelspec": {
      "name": "python3",
      "display_name": "Python 3"
    },
    "language_info": {
      "name": "python"
    }
  },
  "cells": [
    {
      "cell_type": "code",
      "source": [
        "import spacy"
      ],
      "metadata": {
        "id": "_ZsTUMqdgxIr"
      },
      "execution_count": 1,
      "outputs": []
    },
    {
      "cell_type": "code",
      "source": [
        "nlp = spacy.load(\"en_core_web_sm\")"
      ],
      "metadata": {
        "id": "aZz7jKn_g7C8"
      },
      "execution_count": 2,
      "outputs": []
    },
    {
      "cell_type": "code",
      "source": [
        "stop_words = spacy.lang.en.stop_words.STOP_WORDS"
      ],
      "metadata": {
        "id": "Hp9ngTyAmZhL"
      },
      "execution_count": 3,
      "outputs": []
    },
    {
      "cell_type": "code",
      "source": [
        "print(stop_words)"
      ],
      "metadata": {
        "colab": {
          "base_uri": "https://localhost:8080/"
        },
        "id": "HoGCvmaqmyWc",
        "outputId": "411762e0-8f94-4ac7-ce01-b1c9fd98f1b5"
      },
      "execution_count": 4,
      "outputs": [
        {
          "output_type": "stream",
          "name": "stdout",
          "text": [
            "{'herself', 'most', 'also', '’s', 'anyone', 'should', 'after', 'anything', 'which', 'them', 'they', 'used', 'get', 'various', 'beside', 'nevertheless', 'into', 'almost', 'hundred', 'eight', 'four', 'since', 'might', 'afterwards', 'were', 'now', 'your', 'without', 'her', 'although', 'own', 'against', 'nine', 'take', 'empty', 'top', 'him', '‘ve', 'six', '’ll', 'whence', 'very', 'doing', \"'d\", 'same', \"'s\", 'who', 'around', 'within', 'my', 'besides', 'herein', 'even', 'something', 'therein', 'enough', 'everything', 'perhaps', 'onto', '‘s', 'will', 'you', 'each', 'cannot', 'seem', 'whereas', 'an', 'wherever', 'here', 'over', 'thereupon', 'back', 'keep', 'these', 'every', 'sometime', '‘ll', 'latterly', 'where', 'through', \"'m\", 'n’t', 'further', 'than', 'unless', 'ourselves', 'thru', 'mine', 'too', 'none', '’d', 'itself', 'do', 'while', 'much', 'quite', 'whoever', 'in', 'else', 'therefore', 'by', 'must', 'otherwise', 'during', 'hereby', 'formerly', 'neither', 'moreover', 'fifteen', 'eleven', 'move', 'already', 'bottom', 'of', 'up', 'three', 'been', 'does', 'had', 'less', 'whereby', 'before', 'nowhere', 'call', 'always', 'yourself', 'their', 'across', 'the', 'due', 'next', 'whom', 'hereupon', 'themselves', 'still', 'hereafter', 'did', 'off', 'his', 'is', 'from', 'elsewhere', 'myself', 'but', 'out', 'somewhere', 'or', 'could', 'serious', 'often', 'towards', 'others', '’ve', 'amongst', 'because', 'becomes', 'with', 'front', 'see', 'under', 'put', 'along', 'seems', 'whenever', 'least', 'can', 'would', 'forty', 'himself', 'many', 'and', 'fifty', 'whether', 'whatever', 'whereupon', 'behind', 'whither', 'one', 'alone', 'its', '’m', 'it', 'so', 'thence', 'no', 'to', 'namely', 'seemed', 'then', 'a', 'nobody', 'seeming', 'make', 'former', 'have', 'twelve', 'above', 'until', \"n't\", 'full', 'has', 're', 'me', 'this', 'not', 'such', 'nothing', 'only', 'whole', 'together', 'ours', 'upon', 'being', 'became', '‘m', 'hence', '‘re', 'ten', 'are', 'show', 'except', 'if', 'everywhere', \"'ll\", 'us', '‘d', 'as', 'noone', 'mostly', 'however', 'throughout', 'toward', 'be', 'ca', 'some', 'say', 'few', 'two', 'another', 'beforehand', 'there', 'yourselves', 'latter', 'sixty', 'done', 'everyone', 'meanwhile', 'become', 'rather', \"'re\", 'becoming', 'on', 'am', \"'ve\", 'when', 'last', 'about', 'twenty', 'anyhow', 'again', 'once', 'yours', 'between', 'someone', 'never', 'regarding', 'that', 'per', 'those', 'both', 'all', 'anywhere', 'via', 'five', 'part', 'well', 'go', 'first', 'for', 'what', 'at', 'anyway', 'was', 'more', 'please', 'may', 'how', '’re', 'our', 'amount', 'made', 'n‘t', 'though', 'thereafter', 'beyond', 'whose', 'he', 'ever', 'somehow', 'really', 'below', 'whereafter', 'we', 'side', 'down', 'hers', 'nor', 'thus', 'she', 'thereby', 'why', 'give', 'sometimes', 'other', 'among', 'indeed', 'i', 'yet', 'name', 'just', 'any', 'either', 'third', 'using', 'wherein', 'several'}\n"
          ]
        }
      ]
    },
    {
      "cell_type": "code",
      "source": [
        "nlp.Defaults.stop_words.add(\"newt\")"
      ],
      "metadata": {
        "id": "GV-e5QExm0Se"
      },
      "execution_count": 5,
      "outputs": []
    },
    {
      "cell_type": "code",
      "source": [
        "nlp.Defaults.stop_words |= {\"stop\", \"word\"} # Add Stop Word"
      ],
      "metadata": {
        "id": "d4eJohvanFuI"
      },
      "execution_count": 6,
      "outputs": []
    },
    {
      "cell_type": "code",
      "source": [
        "nlp.Defaults.stop_words -= {\"stop\", \"word\"}"
      ],
      "metadata": {
        "id": "KBxFLmLrnZOr"
      },
      "execution_count": 7,
      "outputs": []
    }
  ]
}