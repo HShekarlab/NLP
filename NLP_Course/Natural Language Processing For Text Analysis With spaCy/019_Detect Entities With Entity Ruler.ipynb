{
  "nbformat": 4,
  "nbformat_minor": 0,
  "metadata": {
    "colab": {
      "provenance": []
    },
    "kernelspec": {
      "name": "python3",
      "display_name": "Python 3"
    },
    "language_info": {
      "name": "python"
    }
  },
  "cells": [
    {
      "cell_type": "code",
      "source": [
        "import spacy\n",
        "from spacy.pipeline import EntityRuler"
      ],
      "metadata": {
        "id": "7cYT1FH7YMc_"
      },
      "execution_count": 1,
      "outputs": []
    },
    {
      "cell_type": "code",
      "source": [
        "nlp = spacy.load(\"en_core_web_sm\")\n",
        "doc = nlp(\"XYZ Technologies is opening its first big office in Hong Kong\")\n",
        "print(doc.ents) # Default Entities"
      ],
      "metadata": {
        "colab": {
          "base_uri": "https://localhost:8080/"
        },
        "id": "QtddtUKNYMIc",
        "outputId": "55035d6e-ed00-4019-c0ee-7a27eb67ba88"
      },
      "execution_count": 2,
      "outputs": [
        {
          "output_type": "stream",
          "name": "stdout",
          "text": [
            "(XYZ Technologies, first, Hong Kong)\n"
          ]
        }
      ]
    },
    {
      "cell_type": "code",
      "source": [
        "patterns = [{\"label\": \"ORG\",\n",
        "             \"pattern\": \"XYZ Technologies\"}]\n",
        "\n",
        "ruler = nlp.add_pipe(\"entity_ruler\")\n",
        "ruler.add_patterns(patterns)\n",
        "\n",
        "doc_2 = nlp(\"XYZ Technologies is opening its first big office in Hong Kong\")"
      ],
      "metadata": {
        "id": "cm1GZEnpdabj"
      },
      "execution_count": 3,
      "outputs": []
    },
    {
      "cell_type": "code",
      "source": [
        "print(doc_2.ents)\n",
        "print(doc_2[5].ent_type_)"
      ],
      "metadata": {
        "colab": {
          "base_uri": "https://localhost:8080/"
        },
        "id": "adbLNhUJeKjA",
        "outputId": "45774f26-46bf-4dd8-9c05-9d66017cb8e2"
      },
      "execution_count": 4,
      "outputs": [
        {
          "output_type": "stream",
          "name": "stdout",
          "text": [
            "(XYZ Technologies, first, Hong Kong)\n",
            "ORDINAL\n"
          ]
        }
      ]
    }
  ]
}