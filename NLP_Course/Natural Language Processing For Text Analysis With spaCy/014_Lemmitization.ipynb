{
  "nbformat": 4,
  "nbformat_minor": 0,
  "metadata": {
    "colab": {
      "provenance": []
    },
    "kernelspec": {
      "name": "python3",
      "display_name": "Python 3"
    },
    "language_info": {
      "name": "python"
    }
  },
  "cells": [
    {
      "cell_type": "code",
      "source": [
        "import spacy"
      ],
      "metadata": {
        "id": "_ZsTUMqdgxIr"
      },
      "execution_count": 1,
      "outputs": []
    },
    {
      "cell_type": "code",
      "source": [
        "nlp = spacy.load(\"en_core_web_sm\")"
      ],
      "metadata": {
        "id": "aZz7jKn_g7C8"
      },
      "execution_count": 2,
      "outputs": []
    },
    {
      "cell_type": "code",
      "source": [
        "doc = nlp(\"When life is sweet, say thank you and celebrate. When life is bitter, say thank you and grow\")"
      ],
      "metadata": {
        "id": "P6Q6rY36oXbR"
      },
      "execution_count": 3,
      "outputs": []
    },
    {
      "cell_type": "code",
      "source": [
        "for token in doc:\n",
        "  print(token.text, token.lemma_)"
      ],
      "metadata": {
        "colab": {
          "base_uri": "https://localhost:8080/"
        },
        "id": "tUdboxRuokV2",
        "outputId": "44bd84a7-6a99-408b-852c-f43dab0f1738"
      },
      "execution_count": 4,
      "outputs": [
        {
          "output_type": "stream",
          "name": "stdout",
          "text": [
            "When when\n",
            "life life\n",
            "is be\n",
            "sweet sweet\n",
            ", ,\n",
            "say say\n",
            "thank thank\n",
            "you you\n",
            "and and\n",
            "celebrate celebrate\n",
            ". .\n",
            "When when\n",
            "life life\n",
            "is be\n",
            "bitter bitter\n",
            ", ,\n",
            "say say\n",
            "thank thank\n",
            "you you\n",
            "and and\n",
            "grow grow\n"
          ]
        }
      ]
    }
  ]
}