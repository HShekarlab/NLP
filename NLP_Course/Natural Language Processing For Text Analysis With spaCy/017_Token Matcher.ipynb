{
  "nbformat": 4,
  "nbformat_minor": 0,
  "metadata": {
    "colab": {
      "provenance": []
    },
    "kernelspec": {
      "name": "python3",
      "display_name": "Python 3"
    },
    "language_info": {
      "name": "python"
    }
  },
  "cells": [
    {
      "cell_type": "code",
      "source": [
        "import spacy\n",
        "from spacy.matcher import Matcher"
      ],
      "metadata": {
        "id": "7cYT1FH7YMc_"
      },
      "execution_count": 1,
      "outputs": []
    },
    {
      "cell_type": "code",
      "source": [
        "nlp = spacy.load(\"en_core_web_sm\")"
      ],
      "metadata": {
        "id": "QtddtUKNYMIc"
      },
      "execution_count": 2,
      "outputs": []
    },
    {
      "cell_type": "code",
      "source": [
        "matcher = Matcher(nlp.vocab)"
      ],
      "metadata": {
        "id": "XAcjQr3GYutb"
      },
      "execution_count": 3,
      "outputs": []
    },
    {
      "cell_type": "code",
      "source": [
        "pattern = [{\"LIKE_EMAIL\": True}]\n",
        "matcher.add(\"EMAIL\", [pattern])"
      ],
      "metadata": {
        "id": "hMvV6EaDZNpF"
      },
      "execution_count": 4,
      "outputs": []
    },
    {
      "cell_type": "code",
      "source": [
        "text = \"You can contact support through email address contact@totallyuseless.com\"\n",
        "doc = nlp(text)\n",
        "matches = matcher(doc)"
      ],
      "metadata": {
        "id": "y3lt_EScZl8b"
      },
      "execution_count": 5,
      "outputs": []
    },
    {
      "cell_type": "code",
      "source": [
        "for match_id, start, end in matches:\n",
        "  print(doc[start:end])"
      ],
      "metadata": {
        "colab": {
          "base_uri": "https://localhost:8080/"
        },
        "id": "FhDrwLz0aNDa",
        "outputId": "da4af199-2131-483e-c381-13200fecf7d4"
      },
      "execution_count": 6,
      "outputs": [
        {
          "output_type": "stream",
          "name": "stdout",
          "text": [
            "contact@totallyuseless.com\n"
          ]
        }
      ]
    }
  ]
}