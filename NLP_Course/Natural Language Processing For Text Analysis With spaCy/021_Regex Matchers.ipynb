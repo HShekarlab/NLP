{
  "nbformat": 4,
  "nbformat_minor": 0,
  "metadata": {
    "colab": {
      "provenance": []
    },
    "kernelspec": {
      "name": "python3",
      "display_name": "Python 3"
    },
    "language_info": {
      "name": "python"
    }
  },
  "cells": [
    {
      "cell_type": "code",
      "source": [
        "import spacy\n",
        "from spacy.matcher import Matcher"
      ],
      "metadata": {
        "id": "7cYT1FH7YMc_"
      },
      "execution_count": 1,
      "outputs": []
    },
    {
      "cell_type": "code",
      "source": [
        "nlp = spacy.load(\"en_core_web_sm\")"
      ],
      "metadata": {
        "id": "QtddtUKNYMIc"
      },
      "execution_count": 2,
      "outputs": []
    },
    {
      "cell_type": "code",
      "source": [
        "matcher = Matcher(nlp.vocab)"
      ],
      "metadata": {
        "id": "QVZVfaqYudQN"
      },
      "execution_count": 3,
      "outputs": []
    },
    {
      "cell_type": "code",
      "source": [
        "doc_1 = nlp(\"I travelled by bus.\")\n",
        "doc_2 = nlp(\"She traveled by bike.\")"
      ],
      "metadata": {
        "id": "VoIx7Ftse3B7"
      },
      "execution_count": 4,
      "outputs": []
    },
    {
      "cell_type": "code",
      "source": [
        "pattern = [{\"POS\": \"PRON\"},\n",
        "           {\"TEXT\": {\"REGEX\": \"[Tt]ravell?ed\"}\n",
        "            }\n",
        "           ]"
      ],
      "metadata": {
        "id": "-RLmMgOCuZoj"
      },
      "execution_count": 5,
      "outputs": []
    },
    {
      "cell_type": "code",
      "source": [
        "matcher.add(\"travelRegex\", [pattern])"
      ],
      "metadata": {
        "id": "ieRphCAUv08C"
      },
      "execution_count": 6,
      "outputs": []
    },
    {
      "cell_type": "code",
      "source": [
        "for mid, start, end in matcher(doc_1):\n",
        "  print(start, end, doc_1[start:end])"
      ],
      "metadata": {
        "colab": {
          "base_uri": "https://localhost:8080/"
        },
        "id": "WwfRYNjLv_V8",
        "outputId": "989feadf-7dcb-4c22-d367-8719d8ebd257"
      },
      "execution_count": 7,
      "outputs": [
        {
          "output_type": "stream",
          "name": "stdout",
          "text": [
            "0 2 I travelled\n"
          ]
        }
      ]
    },
    {
      "cell_type": "code",
      "source": [
        "for mid, start, end in matcher(doc_2):\n",
        "  print(start, end, doc_2[start:end])"
      ],
      "metadata": {
        "colab": {
          "base_uri": "https://localhost:8080/"
        },
        "id": "vlRZ9wpVwW_D",
        "outputId": "d42aa74c-b9af-45db-e197-e2f9c9a7179e"
      },
      "execution_count": 8,
      "outputs": [
        {
          "output_type": "stream",
          "name": "stdout",
          "text": [
            "0 2 She traveled\n"
          ]
        }
      ]
    }
  ]
}