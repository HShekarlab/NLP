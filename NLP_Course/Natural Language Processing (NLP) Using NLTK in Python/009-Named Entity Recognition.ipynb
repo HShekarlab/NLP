{
 "cells": [
  {
   "cell_type": "code",
   "execution_count": 1,
   "id": "5ae17391-f3ed-439e-8803-512eb0d7ccbe",
   "metadata": {},
   "outputs": [],
   "source": [
    "import nltk\n",
    "from nltk import word_tokenize\n",
    "from nltk.corpus import stopwords\n",
    "import string\n",
    "from nltk import pos_tag\n",
    "from nltk.stem.lancaster import LancasterStemmer\n",
    "from nltk.stem.porter import PorterStemmer\n",
    "from nltk.stem.snowball import SnowballStemmer\n",
    "from nltk.stem import WordNetLemmatizer"
   ]
  },
  {
   "cell_type": "code",
   "execution_count": 2,
   "id": "8a27ee81-ca93-4984-87f8-642313e4880e",
   "metadata": {},
   "outputs": [],
   "source": [
    "Text = \"Iran’s culture, or contemporary Persian culture, has its roots in one of the most ancient civilizations in the Middle East.\\\n",
    "Throughout history, the Persian cultural radiation of various kinds of literature and arts had a wide presence and influence that transcends the boundaries of place, extending to various parts of the world.\\\n",
    "The emergence of Islam in the seventh century and the Arab conquests of Iran were a turning point for various types of arts and literature.\\\n",
    "Persian music, along with other Persian cultural elements, became the main component of what has been termed “Islamic civilization”.\\\n",
    "Where Persian literature emerged with the formation of the modern Persian language after the Arab conquest.\\\n",
    "Thus, Language and literature joined forces for the advancement of intellect, before the emergence of the classical Persian literature, then its transformation into its modern styles later on, especially after the Khomeini’s revolution in 1979\""
   ]
  },
  {
   "cell_type": "code",
   "execution_count": 3,
   "id": "56390b1a-60d2-4e90-97b3-d23b51ed225a",
   "metadata": {},
   "outputs": [],
   "source": [
    "words = word_tokenize(Text)"
   ]
  },
  {
   "cell_type": "code",
   "execution_count": 4,
   "id": "5fea2180-5587-4e2d-80a7-e09d81d46e1b",
   "metadata": {},
   "outputs": [],
   "source": [
    "stop_words = set(stopwords.words(\"english\"))\n",
    "stop_words = stop_words.union(string.punctuation)  \n",
    "\n",
    "clean_words = [w for w in words if not w in stop_words]"
   ]
  },
  {
   "cell_type": "code",
   "execution_count": 5,
   "id": "37656c2b-266d-4292-a1a5-fe6fe03e31b7",
   "metadata": {},
   "outputs": [],
   "source": [
    "tagged_words = pos_tag(clean_words)"
   ]
  },
  {
   "cell_type": "code",
   "execution_count": 6,
   "id": "6680310b-9ac6-45ad-871a-944b8a9a1531",
   "metadata": {},
   "outputs": [],
   "source": [
    "stemmer = LancasterStemmer()"
   ]
  },
  {
   "cell_type": "code",
   "execution_count": 7,
   "id": "af1102ed-bac7-4e0f-8326-a854116ce119",
   "metadata": {},
   "outputs": [],
   "source": [
    "stemmer = PorterStemmer()"
   ]
  },
  {
   "cell_type": "code",
   "execution_count": 8,
   "id": "a739e5fd-6e69-467f-8c4e-9433a0594d93",
   "metadata": {},
   "outputs": [],
   "source": [
    "stemmer = SnowballStemmer(\"english\")"
   ]
  },
  {
   "cell_type": "code",
   "execution_count": 9,
   "id": "2279186d-0ce6-4b05-9ff3-d7ea7cdb8bc7",
   "metadata": {},
   "outputs": [],
   "source": [
    "lemmatizer = WordNetLemmatizer()"
   ]
  },
  {
   "cell_type": "code",
   "execution_count": 10,
   "id": "1ee56f1c-d4cc-4f36-ac73-2dee054c8d06",
   "metadata": {},
   "outputs": [],
   "source": [
    "from nltk import ne_chunk, sent_tokenize"
   ]
  },
  {
   "cell_type": "code",
   "execution_count": 11,
   "id": "6fd80c8f-7a19-4107-ab02-528a427cd201",
   "metadata": {},
   "outputs": [],
   "source": [
    "sentences = sent_tokenize(Text)"
   ]
  },
  {
   "cell_type": "code",
   "execution_count": 12,
   "id": "9dd52f69-c3ee-468d-b5ed-4496562d1f60",
   "metadata": {},
   "outputs": [],
   "source": [
    "for sentence in sentences:\n",
    "    words = word_tokenize(sentence)\n",
    "    tags = pos_tag(words)\n",
    "    ner = ne_chunk(tags)\n",
    "    ner.draw()"
   ]
  }
 ],
 "metadata": {
  "kernelspec": {
   "display_name": "Python 3 (ipykernel)",
   "language": "python",
   "name": "python3"
  },
  "language_info": {
   "codemirror_mode": {
    "name": "ipython",
    "version": 3
   },
   "file_extension": ".py",
   "mimetype": "text/x-python",
   "name": "python",
   "nbconvert_exporter": "python",
   "pygments_lexer": "ipython3",
   "version": "3.12.1"
  }
 },
 "nbformat": 4,
 "nbformat_minor": 5
}
