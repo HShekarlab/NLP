{
 "cells": [
  {
   "cell_type": "code",
   "execution_count": 1,
   "id": "6f9cc032-18e9-41aa-84bc-f33d1592e5ed",
   "metadata": {},
   "outputs": [],
   "source": [
    "import nltk"
   ]
  },
  {
   "cell_type": "code",
   "execution_count": 2,
   "id": "2f02deef-d67b-48a5-8c18-930c76bdfd5e",
   "metadata": {},
   "outputs": [],
   "source": [
    "def Learn_Default_Tagger(simple_sentence):\n",
    "    words_in_sentence = nltk.word_tokenize(simple_sentence)\n",
    "    tagger = nltk.DefaultTagger(\"NN\")\n",
    "    pos_enable_tag = tagger.tag(words_in_sentence)\n",
    "    print(pos_enable_tag)"
   ]
  },
  {
   "cell_type": "code",
   "execution_count": 3,
   "id": "8a11140d-5d9d-4478-914a-ac110e6fff07",
   "metadata": {},
   "outputs": [],
   "source": [
    "def Learn_Re_Tagger(simple_sentence):\n",
    "    customer_patterns = [\n",
    "        (r\".*ing$\", \"ADJECTIVE\"),\n",
    "        (r\".*ly$\", \"ADVERB\"),\n",
    "        (r\".*ion\", \"NOUN\"),\n",
    "        (r\"(.*ate|.*en|is)$\", \"VERB\"),\n",
    "        (r\"^an$\", \"INDEFINITE-ARTICLE\"),\n",
    "        (r\"^(with|on|at)$\", \"PREPOSITION\"),\n",
    "        (r\"^\\-?[0-9]+(\\.[0-9]+)$\", \"NUMBER\"),\n",
    "        (r\".*$\", None)\n",
    "    ]\n",
    "    tagger = nltk.RegexpTagger(customer_patterns)\n",
    "    words_in_sentence = nltk.word_tokenize(simple_sentence)\n",
    "    pos_enable_tags = tagger.tag(words_in_sentence)\n",
    "    print(pos_enable_tags)"
   ]
  },
  {
   "cell_type": "code",
   "execution_count": 4,
   "id": "29e3c686-c311-4806-b4d7-c1c1c7bef1e4",
   "metadata": {},
   "outputs": [],
   "source": [
    "def Learn_LookUp_Tagger(simple_sentence):\n",
    "    mapping = {\n",
    "        \".\": \".\",\n",
    "        \"place\": \"NN\",\n",
    "        \"on\": \"IN\",\n",
    "        \"earth\": \"NN\",\n",
    "        \"Mysore\": \"NNP\",\n",
    "        \"is\": \"VBZ\",\n",
    "        \"an\": \"DT\",\n",
    "        \"amazing\": \"JJ\"\n",
    "    }\n",
    "    tagger = nltk.UnigramTagger(model= mapping)\n",
    "    words_in_sentence = nltk.word_tokenize(simple_sentence)\n",
    "    pos_enable_tag = tagger.tag(words_in_sentence)\n",
    "    print(pos_enable_tag)"
   ]
  },
  {
   "cell_type": "code",
   "execution_count": 5,
   "id": "8c583701-a3d3-4335-ae00-a542b3c785c8",
   "metadata": {},
   "outputs": [
    {
     "name": "stdout",
     "output_type": "stream",
     "text": [
      "[('Mysore', 'NN'), ('is', 'NN'), ('an', 'NN'), ('amazing', 'NN'), ('place', 'NN'), ('on', 'NN'), ('earth', 'NN'), ('.', 'NN'), ('I', 'NN'), ('have', 'NN'), ('visited', 'NN'), ('Mysore', 'NN'), ('10', 'NN'), ('times', 'NN'), ('.', 'NN')]\n",
      "[('Mysore', None), ('is', 'VERB'), ('an', 'INDEFINITE-ARTICLE'), ('amazing', 'ADJECTIVE'), ('place', None), ('on', 'PREPOSITION'), ('earth', None), ('.', None), ('I', None), ('have', None), ('visited', None), ('Mysore', None), ('10', None), ('times', None), ('.', None)]\n",
      "[('Mysore', 'NNP'), ('is', 'VBZ'), ('an', 'DT'), ('amazing', 'JJ'), ('place', 'NN'), ('on', 'IN'), ('earth', 'NN'), ('.', '.'), ('I', None), ('have', None), ('visited', None), ('Mysore', 'NNP'), ('10', None), ('times', None), ('.', '.')]\n"
     ]
    }
   ],
   "source": [
    "if __name__ == \"__main__\":\n",
    "    test_sentence = \"Mysore is an amazing place on earth. I have visited Mysore 10 times.\"\n",
    "    Learn_Default_Tagger(test_sentence)\n",
    "    Learn_Re_Tagger(test_sentence)\n",
    "    Learn_LookUp_Tagger(test_sentence)"
   ]
  },
  {
   "cell_type": "code",
   "execution_count": 6,
   "id": "a87f6e46-296f-456e-b79c-779ba0e8afbc",
   "metadata": {},
   "outputs": [],
   "source": [
    "import pickle"
   ]
  },
  {
   "cell_type": "code",
   "execution_count": 7,
   "id": "5af7e96e-d41d-4c3d-8ae2-3c91d56ae427",
   "metadata": {},
   "outputs": [],
   "source": [
    "def Sample_Data():\n",
    "    return [\n",
    "        \"Paris is the capital of France.\",\n",
    "        \"Steve Jobs was the CEO of Apple.\",\n",
    "        \"iPhone was Invented by Apple.\",\n",
    "        \"Books can be purchased in Market.\"\n",
    "    ]"
   ]
  },
  {
   "cell_type": "code",
   "execution_count": 8,
   "id": "81571b8a-3e8e-4a95-a013-ec58665eab73",
   "metadata": {},
   "outputs": [],
   "source": [
    "def Build_Dictionary():\n",
    "    dictionary = {}\n",
    "    for sent in Sample_Data():\n",
    "        parts_of_speech_tags = nltk.pos_tag(nltk.word_tokenize(sent))\n",
    "        for tag in parts_of_speech_tags:\n",
    "            value = tag[0]\n",
    "            pos = tag[1]\n",
    "            dictionary[value] = pos\n",
    "    return dictionary"
   ]
  },
  {
   "cell_type": "code",
   "execution_count": 9,
   "id": "086a0ccd-a291-4370-ac00-38dac1f4b3e3",
   "metadata": {},
   "outputs": [],
   "source": [
    "def Save_my_Tagger(tagger, file_name):\n",
    "    file_handle = open(file_name, \"wb\")\n",
    "    pickle.dump(tagger, file_handle)\n",
    "    file_handle.close()"
   ]
  },
  {
   "cell_type": "code",
   "execution_count": 10,
   "id": "a7571223-b0b8-4a96-8606-f7a57d51434d",
   "metadata": {},
   "outputs": [],
   "source": [
    "def Save_my_Traning(file_name):\n",
    "    tagger = nltk.UnigramTagger(model= Build_Dictionary())\n",
    "    Save_my_Tagger(tagger, file_name)"
   ]
  },
  {
   "cell_type": "code",
   "execution_count": 11,
   "id": "401fccb1-1592-47bb-aad3-1c5fe787da78",
   "metadata": {},
   "outputs": [],
   "source": [
    "def Load_my_Tagger(file_name):\n",
    "    return pickle.load(open(file_name, \"rb\"))"
   ]
  },
  {
   "cell_type": "code",
   "execution_count": 12,
   "id": "f36dc3b1-193f-48e5-a27b-916689e3e19b",
   "metadata": {},
   "outputs": [],
   "source": [
    "sentence = \"Iphone is purchased by Steve Jobs in Paris Market\"\n",
    "file_name = \"my_Tagger.pickle\""
   ]
  },
  {
   "cell_type": "code",
   "execution_count": 13,
   "id": "e8341029-66a7-4033-ad18-6db3624f5f8c",
   "metadata": {},
   "outputs": [],
   "source": [
    "Save_my_Traning(file_name)"
   ]
  },
  {
   "cell_type": "code",
   "execution_count": 14,
   "id": "0b75e196-58b6-4226-8150-18dcb4afa421",
   "metadata": {},
   "outputs": [],
   "source": [
    "my_Tagger = Load_my_Tagger(file_name)"
   ]
  },
  {
   "cell_type": "code",
   "execution_count": 15,
   "id": "07fdac7c-3c45-490c-8435-2a8a23dd40c3",
   "metadata": {},
   "outputs": [
    {
     "name": "stdout",
     "output_type": "stream",
     "text": [
      "[('Iphone', None), ('is', 'VBZ'), ('purchased', 'VBN'), ('by', 'IN'), ('Steve', 'NNP'), ('Jobs', 'NNP'), ('in', 'IN'), ('Paris', 'NNP'), ('Market', 'NNP')]\n"
     ]
    }
   ],
   "source": [
    "print(my_Tagger.tag(nltk.word_tokenize(sentence)))"
   ]
  }
 ],
 "metadata": {
  "kernelspec": {
   "display_name": "Python 3 (ipykernel)",
   "language": "python",
   "name": "python3"
  },
  "language_info": {
   "codemirror_mode": {
    "name": "ipython",
    "version": 3
   },
   "file_extension": ".py",
   "mimetype": "text/x-python",
   "name": "python",
   "nbconvert_exporter": "python",
   "pygments_lexer": "ipython3",
   "version": "3.12.1"
  }
 },
 "nbformat": 4,
 "nbformat_minor": 5
}
