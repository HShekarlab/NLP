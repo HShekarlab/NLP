{
 "cells": [
  {
   "cell_type": "code",
   "execution_count": 1,
   "id": "fc7e6674-0541-49e5-b035-2de76623bdd3",
   "metadata": {},
   "outputs": [],
   "source": [
    "import nltk\n",
    "import threading\n",
    "import queue\n",
    "import feedparser\n",
    "import uuid"
   ]
  },
  {
   "cell_type": "code",
   "execution_count": 2,
   "id": "8fd7147f-f61a-4a92-90ba-e8c29845a988",
   "metadata": {},
   "outputs": [],
   "source": [
    "threads = []\n",
    "queues = [queue.Queue(), queue.Queue()]"
   ]
  },
  {
   "cell_type": "code",
   "execution_count": 3,
   "id": "9dba2f08-922e-49e0-b6c3-b17dc6177adc",
   "metadata": {},
   "outputs": [],
   "source": [
    "def extract_words():\n",
    "    url = \"https://timesofinding.indiatimes.com/rssfeeds/1081479906.cms\"\n",
    "    feed = feedparser.parse(url)\n",
    "    for entry in feed[\"entries\"][:5]:\n",
    "        text = entry[\"title\"]\n",
    "        if \"ex\" in text:\n",
    "            continue\n",
    "        words = nltk.word_tokenize(text)\n",
    "        data = {\"uuid\": uuid.uuid4(),\n",
    "                \"input\": words}\n",
    "        queues[0].put(data, True)\n",
    "        print(\">> {}\".format(data[\"uuid\"], text))"
   ]
  },
  {
   "cell_type": "code",
   "execution_count": 4,
   "id": "de3f11c0-a711-4deb-a208-93eb6ec317b5",
   "metadata": {},
   "outputs": [],
   "source": [
    "def extract_POS():\n",
    "    while True:\n",
    "        if queues[0].empty():\n",
    "            break\n",
    "        else:\n",
    "            data = queues[0].get()\n",
    "            words = data[\"input\"]\n",
    "            postag = nltk.pos_tag(words)\n",
    "            queues[0].task_done()\n",
    "            queues[1].put({\"uuid\": data[\"uuid\"],\n",
    "                           \"input\": postag},\n",
    "                           True)"
   ]
  },
  {
   "cell_type": "code",
   "execution_count": 5,
   "id": "9da20114-acd1-4851-a6a2-3c94c36995f0",
   "metadata": {},
   "outputs": [],
   "source": [
    "def extract_NE():\n",
    "    while True:\n",
    "        if queues[1].empty():\n",
    "            break\n",
    "        else:\n",
    "            data = queues[1].get()\n",
    "            postag = data[\"input\"]\n",
    "            queues[1].task_done()\n",
    "            chunks = nltk.ne_chunk(postag, binary= False)\n",
    "            print(\"  << {}\".format(data[\"uuid\"]), end= \"\")\n",
    "            for path in chunks:\n",
    "                try:\n",
    "                    label = path.label()\n",
    "                    print(path, end= \", \")\n",
    "                except:\n",
    "                    pass\n",
    "            print()"
   ]
  },
  {
   "cell_type": "code",
   "execution_count": 6,
   "id": "6455381b-af56-4d30-8f61-7565bee8680e",
   "metadata": {},
   "outputs": [],
   "source": [
    "def run_program():\n",
    "    e = threading.Thread(target= extract_words())\n",
    "    e.start()\n",
    "    threads.append(e)\n",
    "\n",
    "    p = threading.Thread(target= extract_POS())\n",
    "    p.start()\n",
    "    threads.append(p)\n",
    "\n",
    "    n = threading.Thread(target= extract_NE())\n",
    "    n.start()\n",
    "    threads.append(n)\n",
    "\n",
    "    queues[0].join()\n",
    "    queues[1].join()\n",
    "\n",
    "    for t in threads:\n",
    "        t.join()"
   ]
  },
  {
   "cell_type": "code",
   "execution_count": 7,
   "id": "63da6a78-4b6a-424e-86b7-dc528a72cafd",
   "metadata": {},
   "outputs": [],
   "source": [
    "if __name__ == \"__main__\":\n",
    "    run_program()"
   ]
  }
 ],
 "metadata": {
  "kernelspec": {
   "display_name": "Python 3 (ipykernel)",
   "language": "python",
   "name": "python3"
  },
  "language_info": {
   "codemirror_mode": {
    "name": "ipython",
    "version": 3
   },
   "file_extension": ".py",
   "mimetype": "text/x-python",
   "name": "python",
   "nbconvert_exporter": "python",
   "pygments_lexer": "ipython3",
   "version": "3.12.1"
  }
 },
 "nbformat": 4,
 "nbformat_minor": 5
}
