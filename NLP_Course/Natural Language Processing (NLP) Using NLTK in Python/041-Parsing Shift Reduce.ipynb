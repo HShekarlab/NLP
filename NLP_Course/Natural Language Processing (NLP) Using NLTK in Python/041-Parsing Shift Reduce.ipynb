{
 "cells": [
  {
   "cell_type": "code",
   "execution_count": 1,
   "id": "43f48176-47d8-4efd-9164-a99f95d28916",
   "metadata": {},
   "outputs": [],
   "source": [
    "import nltk"
   ]
  },
  {
   "cell_type": "code",
   "execution_count": 2,
   "id": "f0e9bb9b-3552-4b4a-b08a-adb422f6e31c",
   "metadata": {},
   "outputs": [],
   "source": [
    "def SR_Parser_Example(grammar, text_list):\n",
    "    parser = nltk.parse.ShiftReduceParser(grammar)\n",
    "    for txt in text_list:\n",
    "        sentence = nltk.word_tokenize(txt)\n",
    "        for tree in parser.parse(sentence):\n",
    "            print(tree)\n",
    "            tree.draw()"
   ]
  },
  {
   "cell_type": "code",
   "execution_count": 3,
   "id": "ff55ab09-8c73-4cfb-944c-f77439e4ac9a",
   "metadata": {},
   "outputs": [],
   "source": [
    "text = [\n",
    "    \"Tajmahal is in Agra\",\n",
    "    \"Paris is the capital of France\"\n",
    "]"
   ]
  },
  {
   "cell_type": "code",
   "execution_count": 4,
   "id": "7e9d18ce-2783-4e23-b036-a573d3d9198e",
   "metadata": {},
   "outputs": [],
   "source": [
    "grammar = nltk.CFG.fromstring(\"\"\"\n",
    "S -> NP VP\n",
    "NP -> NNP VBZ\n",
    "VP -> IN NNP | DT NN IN NNP\n",
    "NNP -> 'Tajmahal' | 'Agra' | 'Paris' | 'France'\n",
    "VBZ -> 'is'\n",
    "IN -> 'in' | 'of'\n",
    "DT -> 'the'\n",
    "NN -> 'capital'\n",
    "\"\"\")"
   ]
  },
  {
   "cell_type": "code",
   "execution_count": 5,
   "id": "8f59ec6e-d648-47d4-b854-80a2846b9363",
   "metadata": {},
   "outputs": [
    {
     "name": "stdout",
     "output_type": "stream",
     "text": [
      "(S (NP (NNP Tajmahal) (VBZ is)) (VP (IN in) (NNP Agra)))\n"
     ]
    }
   ],
   "source": [
    "SR_Parser_Example(grammar, text)"
   ]
  }
 ],
 "metadata": {
  "kernelspec": {
   "display_name": "Python 3 (ipykernel)",
   "language": "python",
   "name": "python3"
  },
  "language_info": {
   "codemirror_mode": {
    "name": "ipython",
    "version": 3
   },
   "file_extension": ".py",
   "mimetype": "text/x-python",
   "name": "python",
   "nbconvert_exporter": "python",
   "pygments_lexer": "ipython3",
   "version": "3.12.1"
  }
 },
 "nbformat": 4,
 "nbformat_minor": 5
}
