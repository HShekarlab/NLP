{
 "cells": [
  {
   "cell_type": "code",
   "execution_count": 1,
   "id": "51855cf6-42a8-483d-8fef-f784a3d524f8",
   "metadata": {},
   "outputs": [],
   "source": [
    "import nltk"
   ]
  },
  {
   "cell_type": "code",
   "execution_count": 2,
   "id": "f80d6911-70ba-4167-b5db-14086f7024b8",
   "metadata": {},
   "outputs": [],
   "source": [
    "class Learning_Dictionary():\n",
    "    def __init__(self, sentence):\n",
    "        self.words = nltk.word_tokenize(sentence)\n",
    "        self.tagged = nltk.pos_tag(self.words)\n",
    "        self.build_Dictionary()\n",
    "        self.build_Reverse_Dictionary()\n",
    "\n",
    "    def build_Dictionary(self):\n",
    "        self.dictionary = {}\n",
    "        for (word, pos) in self.tagged:\n",
    "            self.dictionary[word] = pos\n",
    "\n",
    "    def build_Reverse_Dictionary(self):\n",
    "        self.rdictionary = {}\n",
    "        for key in self.dictionary.keys():\n",
    "            value = self.dictionary[key]\n",
    "            if value not in self.dictionary:\n",
    "                self.rdictionary[value] = [key]\n",
    "            else:\n",
    "                self.rdictionary[value].append(key)\n",
    "\n",
    "    def is_Word_Present(self, word):\n",
    "        return \"Yes\" if word in self.dictionary else \"No\"\n",
    "    \n",
    "    def get_POS_for_Word(self, word):\n",
    "        return self.dictionary[word] if word in self.dictionary else None\n",
    "    \n",
    "    def get_Word_for_POS(self, pos):\n",
    "        return self.dictionary[pos] if pos in self.dictionary else None"
   ]
  },
  {
   "cell_type": "code",
   "execution_count": 3,
   "id": "840f844a-e327-42a5-b9e6-05361f16a45e",
   "metadata": {},
   "outputs": [],
   "source": [
    "sentence =\"All the flights got delayed due to bad weather\""
   ]
  },
  {
   "cell_type": "code",
   "execution_count": 4,
   "id": "508a1b6c-a75b-4f47-a024-08813f316796",
   "metadata": {},
   "outputs": [],
   "source": [
    "learning = Learning_Dictionary(sentence)"
   ]
  },
  {
   "cell_type": "code",
   "execution_count": 5,
   "id": "21aa908f-1776-4273-82e8-7b64dec6bdd5",
   "metadata": {},
   "outputs": [],
   "source": [
    "words = [\"chair\", \"flights\", \"delayed\", \"pencil\", \"weather\"]"
   ]
  },
  {
   "cell_type": "code",
   "execution_count": 6,
   "id": "067ac892-72ac-4844-b6a7-9192c1a0092c",
   "metadata": {},
   "outputs": [],
   "source": [
    "pos = [\"NN\", \"VBS\", \"NNS\"]"
   ]
  },
  {
   "cell_type": "code",
   "execution_count": 7,
   "id": "4ea74958-8776-4550-876c-8fad421e1328",
   "metadata": {},
   "outputs": [
    {
     "name": "stdout",
     "output_type": "stream",
     "text": [
      "Is 'chair' present in dictionary ? : '<__main__.Learning_Dictionary object at 0x00000184EE9AF3E0>'\n",
      "Is 'flights' present in dictionary ? : '<__main__.Learning_Dictionary object at 0x00000184EE9AF4A0>'\n",
      "Is 'delayed' present in dictionary ? : '<__main__.Learning_Dictionary object at 0x00000184EE9AF3E0>'\n",
      "Is 'pencil' present in dictionary ? : '<__main__.Learning_Dictionary object at 0x00000184EE9AF4A0>'\n",
      "Is 'weather' present in dictionary ? : '<__main__.Learning_Dictionary object at 0x00000184EE9AF3E0>'\n"
     ]
    }
   ],
   "source": [
    "for word in words:\n",
    "    status = Learning_Dictionary(word)\n",
    "    print(\"Is '{}' present in dictionary ? : '{}'\".format(word, status))\n",
    "    if status is True:\n",
    "        print(\"\\tPOS for '{}' is '{}'\".format(word, learning.get_POS_for_Word(word)))"
   ]
  },
  {
   "cell_type": "code",
   "execution_count": 8,
   "id": "738f43eb-1c10-4528-aafd-19840dc2f6a3",
   "metadata": {},
   "outputs": [
    {
     "name": "stdout",
     "output_type": "stream",
     "text": [
      "POS 'NN' has 'None' words\n",
      "POS 'VBS' has 'None' words\n",
      "POS 'NNS' has 'None' words\n"
     ]
    }
   ],
   "source": [
    "for pword in pos:\n",
    "    print(\"POS '{}' has '{}' words\".format(pword, learning.get_Word_for_POS(pword)))"
   ]
  }
 ],
 "metadata": {
  "kernelspec": {
   "display_name": "Python 3 (ipykernel)",
   "language": "python",
   "name": "python3"
  },
  "language_info": {
   "codemirror_mode": {
    "name": "ipython",
    "version": 3
   },
   "file_extension": ".py",
   "mimetype": "text/x-python",
   "name": "python",
   "nbconvert_exporter": "python",
   "pygments_lexer": "ipython3",
   "version": "3.12.1"
  }
 },
 "nbformat": 4,
 "nbformat_minor": 5
}
