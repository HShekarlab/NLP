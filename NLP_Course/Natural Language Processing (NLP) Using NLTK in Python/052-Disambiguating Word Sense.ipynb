{
 "cells": [
  {
   "cell_type": "code",
   "execution_count": 1,
   "id": "dab89dd7-0c62-4d49-85c6-13d1e815b5af",
   "metadata": {},
   "outputs": [],
   "source": [
    "import nltk"
   ]
  },
  {
   "cell_type": "code",
   "execution_count": 2,
   "id": "debadfc7-20bd-4f28-83fe-ecb2eab90b7c",
   "metadata": {},
   "outputs": [],
   "source": [
    "def understand_word_sense_examples():\n",
    "    words = [\"wind\", \"date\", \"left\"]\n",
    "    print(\"-- example --\")\n",
    "    for word in words:\n",
    "        syns = nltk.corpus.wordnet.synsets(word)\n",
    "        for syn in syns[:2]:\n",
    "            for example in syn.examples()[:2]:\n",
    "                print(\"{} -> {} -> {}\".format(word, syn.name(), example))"
   ]
  },
  {
   "cell_type": "code",
   "execution_count": 3,
   "id": "83abc78f-48c5-4447-83ab-d8ab1d7993b6",
   "metadata": {},
   "outputs": [],
   "source": [
    "def understand_built_in_WSd():\n",
    "    print(\"-- built-in-wsd --\")\n",
    "    maps = [\n",
    "        (\"Is it the fish net that you are using to catch fish ?\", \"fish\", \"n\"),\n",
    "        (\"Please dont point your finger at others.\", \"point\", \"n\"),\n",
    "        (\"I went to the river bank to see the sun rise\", \"bank\", \"n\")\n",
    "    ]\n",
    "    for m in maps:\n",
    "        print(\"Sense '{}' for '{}' -> '{}'\".format(m[0], m[1], nltk.wsd.lesk(m[0], m[1], m[2])))"
   ]
  },
  {
   "cell_type": "code",
   "execution_count": 4,
   "id": "6c8ed03e-7300-42f0-9b59-5ccc7d38607d",
   "metadata": {},
   "outputs": [
    {
     "name": "stdout",
     "output_type": "stream",
     "text": [
      "-- example --\n",
      "wind -> wind.n.01 -> trees bent under the fierce winds\n",
      "wind -> wind.n.01 -> when there is no wind, row\n",
      "wind -> wind.n.02 -> the winds of change\n",
      "date -> date.n.01 -> what is the date today?\n",
      "date -> date.n.02 -> his date never stopped talking\n",
      "left -> left.n.01 -> she stood on the left\n",
      "-- built-in-wsd --\n",
      "Sense 'Is it the fish net that you are using to catch fish ?' for 'fish' -> 'Synset('pisces.n.02')'\n",
      "Sense 'Please dont point your finger at others.' for 'point' -> 'Synset('point.n.25')'\n",
      "Sense 'I went to the river bank to see the sun rise' for 'bank' -> 'Synset('savings_bank.n.02')'\n"
     ]
    }
   ],
   "source": [
    "if __name__ == \"__main__\":\n",
    "    understand_word_sense_examples()\n",
    "    understand_built_in_WSd()"
   ]
  }
 ],
 "metadata": {
  "kernelspec": {
   "display_name": "Python 3 (ipykernel)",
   "language": "python",
   "name": "python3"
  },
  "language_info": {
   "codemirror_mode": {
    "name": "ipython",
    "version": 3
   },
   "file_extension": ".py",
   "mimetype": "text/x-python",
   "name": "python",
   "nbconvert_exporter": "python",
   "pygments_lexer": "ipython3",
   "version": "3.12.1"
  }
 },
 "nbformat": 4,
 "nbformat_minor": 5
}
