{
 "cells": [
  {
   "cell_type": "code",
   "execution_count": 1,
   "id": "d8ec7f6d-fe82-4e84-ac28-362654c21a44",
   "metadata": {},
   "outputs": [],
   "source": [
    "import nltk\n",
    "import math\n",
    "from sklearn.feature_extraction.text import TfidfVectorizer\n",
    "from sklearn.metrics.pairwise import cosine_similarity"
   ]
  },
  {
   "cell_type": "code",
   "execution_count": 2,
   "id": "2635e66a-9719-4100-a167-abad5aa5e930",
   "metadata": {},
   "outputs": [],
   "source": [
    "class Text_Similarity_Example:\n",
    "    def __init__(self):\n",
    "        self.statement = [\n",
    "            \"ruled india\",\n",
    "            \"Chalukyas ruled Badami\",\n",
    "            \"So many kingdoms ruled India\",\n",
    "            \"Lalbagh is a botanical garden in India\"\n",
    "        ]\n",
    "    \n",
    "    def TF(self, sentence):\n",
    "        words = nltk.word_tokenize(sentence.lower())\n",
    "        freq = nltk.FreqDist(words)\n",
    "        dictionary = {}\n",
    "        for key in freq.keys():\n",
    "            norm = freq[key] / float(len(words))\n",
    "            dictionary[key] = norm\n",
    "        return dictionary\n",
    "    \n",
    "    def IDF(self):\n",
    "        def idf(total_number_of_documents, number_of_documents_with_this_word):\n",
    "            return 1.0 + math.log(total_number_of_documents / number_of_documents_with_this_word)\n",
    "        num_documents = len(self.statement)\n",
    "        unique_words = {}\n",
    "        idf_values = {}\n",
    "        for sentence in self.statement:\n",
    "            for word in nltk.word_tokenize(sentence.lower()):\n",
    "                if word not in unique_words:\n",
    "                    unique_words[word] = 1\n",
    "                else:\n",
    "                    unique_words[word] += 1\n",
    "        for word in unique_words:\n",
    "            idf_values[word] = idf(num_documents, unique_words[word])\n",
    "            return idf\n",
    "    \n",
    "    def TF_IDF(self, query):\n",
    "        words = nltk.word_tokenize(query.lower())\n",
    "        idf = self.IDF()\n",
    "        vectors = {}\n",
    "        for sentence in self.statement:\n",
    "            tf = self.TF(sentence)\n",
    "            for word in words:\n",
    "                tfv = tf[word] if word in tf else 0.0\n",
    "                idfv = idf[word] if word in idf else 0.0\n",
    "                mul = tfv * idfv\n",
    "                if word not in vectors:\n",
    "                    vectors[word] = []\n",
    "                vectors[word].append(mul)\n",
    "        return vectors\n",
    "    \n",
    "    def display_vectors(self, vectors):\n",
    "        print(self.statement)\n",
    "        for word in vectors:\n",
    "            print(\"{} -> {}\",format(word, vectors[word]))\n",
    "            \n",
    "    def cosine_similarity(self):\n",
    "        vec = TfidfVectorizer()\n",
    "        matrix = vec.fit_transform(self.statement)\n",
    "        for j in range(1, 5):\n",
    "            i = j - 1\n",
    "            print(\"\\tsimilarity of document {} with others\".format(i))\n",
    "            similarity = cosine_similarity(matrix[i:j], matrix)\n",
    "            print(similarity)\n",
    "\n",
    "    def demo(self):\n",
    "        input_query = self.statement[0]\n",
    "        vectors = self.TF_IDF(input_query)\n",
    "        self.display_vectors(vectors)\n",
    "        self.cosine_similarity()"
   ]
  },
  {
   "cell_type": "code",
   "execution_count": 3,
   "id": "4e3bd6cf-b2c5-42d5-8be3-db9b84d8fb66",
   "metadata": {},
   "outputs": [],
   "source": [
    "similarity = Text_Similarity_Example()\n",
    "similarity.demo()"
   ]
  }
 ],
 "metadata": {
  "kernelspec": {
   "display_name": "Python 3 (ipykernel)",
   "language": "python",
   "name": "python3"
  },
  "language_info": {
   "codemirror_mode": {
    "name": "ipython",
    "version": 3
   },
   "file_extension": ".py",
   "mimetype": "text/x-python",
   "name": "python",
   "nbconvert_exporter": "python",
   "pygments_lexer": "ipython3",
   "version": "3.12.1"
  }
 },
 "nbformat": 4,
 "nbformat_minor": 5
}
