{
 "cells": [
  {
   "cell_type": "code",
   "execution_count": 1,
   "id": "0e244ef6-cd39-4cba-a7bf-7d05da143965",
   "metadata": {},
   "outputs": [],
   "source": [
    "import nltk"
   ]
  },
  {
   "cell_type": "code",
   "execution_count": 2,
   "id": "00b76193-c21a-4426-9162-970c242fd8c6",
   "metadata": {},
   "outputs": [],
   "source": [
    "text = \"When life is sweet, say thank you and celebrate. When life is bitter, say thank you and grow.\""
   ]
  },
  {
   "cell_type": "code",
   "execution_count": 3,
   "id": "beeff62b-be93-47d2-97c8-de2360d904a3",
   "metadata": {},
   "outputs": [
    {
     "name": "stdout",
     "output_type": "stream",
     "text": [
      "['When life is sweet, say thank you and celebrate.', 'When life is bitter, say thank you and grow.']\n"
     ]
    }
   ],
   "source": [
    "sentences = nltk.sent_tokenize(text)\n",
    "print(sentences)"
   ]
  },
  {
   "cell_type": "code",
   "execution_count": 4,
   "id": "533f74b6-fd64-4e96-9e45-af1cb594236d",
   "metadata": {},
   "outputs": [
    {
     "name": "stdout",
     "output_type": "stream",
     "text": [
      "(S\n",
      "  When/WRB\n",
      "  life/NN\n",
      "  is/VBZ\n",
      "  sweet/JJ\n",
      "  ,/,\n",
      "  say/VBP\n",
      "  thank/NN\n",
      "  you/PRP\n",
      "  and/CC\n",
      "  celebrate/VB\n",
      "  ./.)\n",
      "(S\n",
      "  When/WRB\n",
      "  life/NN\n",
      "  is/VBZ\n",
      "  bitter/JJ\n",
      "  ,/,\n",
      "  say/VBP\n",
      "  thank/NN\n",
      "  you/PRP\n",
      "  and/CC\n",
      "  grow/VB\n",
      "  ./.)\n"
     ]
    }
   ],
   "source": [
    "for sentence in sentences:\n",
    "    words = nltk.word_tokenize(sentence)\n",
    "    tags = nltk.pos_tag(words)\n",
    "    chunk = nltk.ne_chunk(tags)\n",
    "    print(chunk)"
   ]
  }
 ],
 "metadata": {
  "kernelspec": {
   "display_name": "Python 3 (ipykernel)",
   "language": "python",
   "name": "python3"
  },
  "language_info": {
   "codemirror_mode": {
    "name": "ipython",
    "version": 3
   },
   "file_extension": ".py",
   "mimetype": "text/x-python",
   "name": "python",
   "nbconvert_exporter": "python",
   "pygments_lexer": "ipython3",
   "version": "3.12.1"
  }
 },
 "nbformat": 4,
 "nbformat_minor": 5
}
