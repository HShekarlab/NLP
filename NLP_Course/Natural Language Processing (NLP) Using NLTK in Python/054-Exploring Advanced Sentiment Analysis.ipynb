{
 "cells": [
  {
   "cell_type": "code",
   "execution_count": 1,
   "id": "32f24318-84bd-4c2c-9a2c-813bbc9a636b",
   "metadata": {},
   "outputs": [],
   "source": [
    "import nltk\n",
    "import nltk.sentiment.util\n",
    "import nltk.sentiment.sentiment_analyzer\n",
    "from nltk.sentiment.vader import SentimentIntensityAnalyzer"
   ]
  },
  {
   "cell_type": "code",
   "execution_count": 2,
   "id": "697eb2bc-8ec7-4b95-b441-5c0ae582a8cb",
   "metadata": {},
   "outputs": [],
   "source": [
    "def my_sentiment_analyzer():\n",
    "    def score_feedback():\n",
    "        positive_words = [\"love\", \"genuine\", \"liked\"]\n",
    "        if \"_NEG\" in \" \".join(nltk.sentiment.util.mark_negation(text.split())):\n",
    "            score = -1\n",
    "        else:\n",
    "            analysis = nltk.sentiment.util.extract_unigram_feats(text.split(), positive_words)\n",
    "            if True in analysis.values():\n",
    "                score = 1\n",
    "            else:\n",
    "                score = 0\n",
    "        return score\n",
    "    \n",
    "    feedback = \"\"\"I love the items in this shop, very genuine and quality is well maintained.\n",
    "    I have visited this shop and had samosa, my friends liked it very much.\n",
    "    ok average food in this shop.\n",
    "    Friends are very busy in this shop, do not place orders during this day.\"\"\"\n",
    "    print(\"-- custom score --\")\n",
    "    for text in feedback.split(\"\\n\"):\n",
    "        print(\"score = {} for >> {}\".format(score_feedback(text), text))"
   ]
  },
  {
   "cell_type": "code",
   "execution_count": 3,
   "id": "1ead3952-9778-4ccc-8ae8-b99c832b0512",
   "metadata": {},
   "outputs": [],
   "source": [
    "def advanced_sentiment_analyzer():\n",
    "    sentences = [\n",
    "        \":)\",\n",
    "        \":(\",\n",
    "        \"she is so :(\",\n",
    "        \"I love the way cricket is played by the champions\",\n",
    "        \"She neither likes coffe nor tea\"\n",
    "    ]\n",
    "    senti = SentimentIntensityAnalyzer()\n",
    "    print(\"-- built-in intensity analyzer --\")\n",
    "    for sentence in sentences:\n",
    "        print(\"[{}]\".format(sentence), end= \" --> \")\n",
    "        kpv = senti.polarity_scores(sentence)\n",
    "        for k in kpv:\n",
    "            print(\"{} = {}, \".format(k, kpv[k]), end= \" \")\n",
    "            print()"
   ]
  },
  {
   "cell_type": "code",
   "execution_count": 4,
   "id": "a5a5b3d7-43c3-47c3-959e-ac9fc82406d2",
   "metadata": {},
   "outputs": [
    {
     "name": "stdout",
     "output_type": "stream",
     "text": [
      "-- built-in intensity analyzer --\n",
      "[:)] --> neg = 0.0,  \n",
      "neu = 0.0,  \n",
      "pos = 1.0,  \n",
      "compound = 0.4588,  \n",
      "[:(] --> neg = 1.0,  \n",
      "neu = 0.0,  \n",
      "pos = 0.0,  \n",
      "compound = -0.4404,  \n",
      "[she is so :(] --> neg = 0.555,  \n",
      "neu = 0.445,  \n",
      "pos = 0.0,  \n",
      "compound = -0.5777,  \n",
      "[I love the way cricket is played by the champions] --> neg = 0.0,  \n",
      "neu = 0.375,  \n",
      "pos = 0.625,  \n",
      "compound = 0.875,  \n",
      "[She neither likes coffe nor tea] --> neg = 0.318,  \n",
      "neu = 0.682,  \n",
      "pos = 0.0,  \n",
      "compound = -0.3252,  \n",
      "-- custom score --\n"
     ]
    },
    {
     "ename": "TypeError",
     "evalue": "my_sentiment_analyzer.<locals>.score_feedback() takes 0 positional arguments but 1 was given",
     "output_type": "error",
     "traceback": [
      "\u001b[1;31m---------------------------------------------------------------------------\u001b[0m",
      "\u001b[1;31mTypeError\u001b[0m                                 Traceback (most recent call last)",
      "Cell \u001b[1;32mIn[4], line 3\u001b[0m\n\u001b[0;32m      1\u001b[0m \u001b[38;5;28;01mif\u001b[39;00m \u001b[38;5;18m__name__\u001b[39m \u001b[38;5;241m==\u001b[39m \u001b[38;5;124m\"\u001b[39m\u001b[38;5;124m__main__\u001b[39m\u001b[38;5;124m\"\u001b[39m:\n\u001b[0;32m      2\u001b[0m     advanced_sentiment_analyzer()\n\u001b[1;32m----> 3\u001b[0m     \u001b[43mmy_sentiment_analyzer\u001b[49m\u001b[43m(\u001b[49m\u001b[43m)\u001b[49m\n",
      "Cell \u001b[1;32mIn[2], line 20\u001b[0m, in \u001b[0;36mmy_sentiment_analyzer\u001b[1;34m()\u001b[0m\n\u001b[0;32m     18\u001b[0m \u001b[38;5;28mprint\u001b[39m(\u001b[38;5;124m\"\u001b[39m\u001b[38;5;124m-- custom score --\u001b[39m\u001b[38;5;124m\"\u001b[39m)\n\u001b[0;32m     19\u001b[0m \u001b[38;5;28;01mfor\u001b[39;00m text \u001b[38;5;129;01min\u001b[39;00m feedback\u001b[38;5;241m.\u001b[39msplit(\u001b[38;5;124m\"\u001b[39m\u001b[38;5;130;01m\\n\u001b[39;00m\u001b[38;5;124m\"\u001b[39m):\n\u001b[1;32m---> 20\u001b[0m     \u001b[38;5;28mprint\u001b[39m(\u001b[38;5;124m\"\u001b[39m\u001b[38;5;124mscore = \u001b[39m\u001b[38;5;132;01m{}\u001b[39;00m\u001b[38;5;124m for >> \u001b[39m\u001b[38;5;132;01m{}\u001b[39;00m\u001b[38;5;124m\"\u001b[39m\u001b[38;5;241m.\u001b[39mformat(\u001b[43mscore_feedback\u001b[49m\u001b[43m(\u001b[49m\u001b[43mtext\u001b[49m\u001b[43m)\u001b[49m, text))\n",
      "\u001b[1;31mTypeError\u001b[0m: my_sentiment_analyzer.<locals>.score_feedback() takes 0 positional arguments but 1 was given"
     ]
    }
   ],
   "source": [
    "if __name__ == \"__main__\":\n",
    "    advanced_sentiment_analyzer()\n",
    "    my_sentiment_analyzer()"
   ]
  }
 ],
 "metadata": {
  "kernelspec": {
   "display_name": "Python 3 (ipykernel)",
   "language": "python",
   "name": "python3"
  },
  "language_info": {
   "codemirror_mode": {
    "name": "ipython",
    "version": 3
   },
   "file_extension": ".py",
   "mimetype": "text/x-python",
   "name": "python",
   "nbconvert_exporter": "python",
   "pygments_lexer": "ipython3",
   "version": "3.12.1"
  }
 },
 "nbformat": 4,
 "nbformat_minor": 5
}
