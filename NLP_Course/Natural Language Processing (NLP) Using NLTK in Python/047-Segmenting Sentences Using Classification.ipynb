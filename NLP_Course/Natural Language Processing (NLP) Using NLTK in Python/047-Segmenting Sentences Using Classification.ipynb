{
 "cells": [
  {
   "cell_type": "code",
   "execution_count": 1,
   "id": "09ce9e09-bdbc-4f22-9e3e-29ce58e67aed",
   "metadata": {},
   "outputs": [],
   "source": [
    "import nltk"
   ]
  },
  {
   "cell_type": "code",
   "execution_count": 2,
   "id": "72c085e0-0421-442e-b03d-d724286a5984",
   "metadata": {},
   "outputs": [],
   "source": [
    "def Feature_Extractor(words, i):\n",
    "    return ({\n",
    "        \"current_word\": words[i],\n",
    "        \"next_is_upper\": words[i+1][0].isupper()\n",
    "    }, words[i+1][0].isupper()\n",
    "    )"
   ]
  },
  {
   "cell_type": "code",
   "execution_count": 3,
   "id": "2eef7af3-34b9-4b2e-a5ed-ef4d5ddc0d71",
   "metadata": {},
   "outputs": [],
   "source": [
    "def get_Feature_sets(sentence):\n",
    "    words = nltk.word_tokenize(sentence)\n",
    "    feature_sets = [Feature_Extractor(words, i) for i in range(1, len(words) - 1) if words[i] == \".\"]\n",
    "    return feature_sets"
   ]
  },
  {
   "cell_type": "code",
   "execution_count": 4,
   "id": "1e13e2c7-a703-4341-92bb-a586d6cf851c",
   "metadata": {},
   "outputs": [],
   "source": [
    "def segment_Text_and_Print_Sentence(data):\n",
    "    words = nltk.word_tokenize(data)\n",
    "    for i in range(0, len(words) - 1):\n",
    "        if words[i] == \".\":\n",
    "            if classifier.classify(Feature_Extractor(words, i)[0]) == True:\n",
    "                print(\".\")\n",
    "            else:\n",
    "                print(words[i], end= \"\")\n",
    "        else:\n",
    "            print(\"{}\".format(words[i]), end= \"\")\n",
    "    print(words[-1])"
   ]
  },
  {
   "cell_type": "code",
   "execution_count": 5,
   "id": "78e26bc6-3500-4e48-9260-5b17e1fd2d7c",
   "metadata": {},
   "outputs": [],
   "source": [
    "train_data = \"Success seems to be connected with action. Successful people keep moving. They make mistakes but they don't quit.\"\n",
    "test_data = \"Life is not a rehearsal. Each day is a new show, no repeat no rewind. Perform carefully live the best, choose the best and do the best.\""
   ]
  },
  {
   "cell_type": "code",
   "execution_count": 6,
   "id": "69085a31-daad-4a3e-acc5-59b405715ab8",
   "metadata": {},
   "outputs": [],
   "source": [
    "train_data_set = get_Feature_sets(train_data)"
   ]
  },
  {
   "cell_type": "code",
   "execution_count": 7,
   "id": "3b8d134c-b4f9-4b03-8af6-33b5bb25df15",
   "metadata": {},
   "outputs": [],
   "source": [
    "classifier = nltk.NaiveBayesClassifier.train(train_data_set)"
   ]
  },
  {
   "cell_type": "code",
   "execution_count": 8,
   "id": "c7755653-74b1-4553-b08f-8993af5cfd98",
   "metadata": {},
   "outputs": [
    {
     "name": "stdout",
     "output_type": "stream",
     "text": [
      "Lifeisnotarehearsal.\n",
      "Eachdayisanewshow,norepeatnorewind.\n",
      "Performcarefullylivethebest,choosethebestanddothebest.\n"
     ]
    }
   ],
   "source": [
    "segment_Text_and_Print_Sentence(test_data)"
   ]
  }
 ],
 "metadata": {
  "kernelspec": {
   "display_name": "Python 3 (ipykernel)",
   "language": "python",
   "name": "python3"
  },
  "language_info": {
   "codemirror_mode": {
    "name": "ipython",
    "version": 3
   },
   "file_extension": ".py",
   "mimetype": "text/x-python",
   "name": "python",
   "nbconvert_exporter": "python",
   "pygments_lexer": "ipython3",
   "version": "3.12.1"
  }
 },
 "nbformat": 4,
 "nbformat_minor": 5
}
