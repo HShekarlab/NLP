{
 "cells": [
  {
   "cell_type": "code",
   "execution_count": 1,
   "id": "1c1e8336-a994-4e28-9bd6-dcbd8c6cc221",
   "metadata": {},
   "outputs": [],
   "source": [
    "import nltk"
   ]
  },
  {
   "cell_type": "code",
   "execution_count": 2,
   "id": "fc5acd81-b9a1-4d0f-9224-d218f8d75562",
   "metadata": {},
   "outputs": [],
   "source": [
    "Text = \"Iran’s culture, or contemporary Persian culture, has its roots in one of the most ancient civilizations in the Middle East. Throughout history, the Persian cultural radiation of various kinds of literature and arts had a wide presence and influence that transcends the boundaries of place, extending to various parts of the world. \\\n",
    "The emergence of Islam in the seventh century and the Arab conquests of Iran were a turning point for various types of arts and literature. \\\n",
    "Persian music, along with other Persian cultural elements, became the main component of what has been termed “Islamic civilization”. \\\n",
    "Where Persian literature emerged with the formation of the modern Persian language after the Arab conquest. \\\n",
    "Thus, Language and literature joined forces for the advancement of intellect, before the emergence of the classical Persian literature, then its transformation into its modern styles later on, especially after the Khomeini’s revolution in 1979\""
   ]
  },
  {
   "cell_type": "code",
   "execution_count": 3,
   "id": "a884ac08-fcc5-4c98-92b5-0fc773ed049a",
   "metadata": {},
   "outputs": [],
   "source": [
    "from nltk import sent_tokenize"
   ]
  },
  {
   "cell_type": "code",
   "execution_count": 4,
   "id": "32ca64a7-cd85-4d85-b4a7-fa096745c5a3",
   "metadata": {},
   "outputs": [
    {
     "name": "stdout",
     "output_type": "stream",
     "text": [
      "------- Original Text : \n",
      "Iran’s culture, or contemporary Persian culture, has its roots in one of the most ancient civilizations in the Middle East. Throughout history, the Persian cultural radiation of various kinds of literature and arts had a wide presence and influence that transcends the boundaries of place, extending to various parts of the world. The emergence of Islam in the seventh century and the Arab conquests of Iran were a turning point for various types of arts and literature. Persian music, along with other Persian cultural elements, became the main component of what has been termed “Islamic civilization”. Where Persian literature emerged with the formation of the modern Persian language after the Arab conquest. Thus, Language and literature joined forces for the advancement of intellect, before the emergence of the classical Persian literature, then its transformation into its modern styles later on, especially after the Khomeini’s revolution in 1979\n",
      "\n",
      "\n",
      "------- Sentecne : 6\n",
      "\n"
     ]
    }
   ],
   "source": [
    "sentences = sent_tokenize(Text)\n",
    "\n",
    "print(\"------- Original Text : \\n\" + Text + \"\\n\\n\")\n",
    "print(\"------- Sentecne : \" + str(len(sentences)) + \"\\n\")"
   ]
  },
  {
   "cell_type": "code",
   "execution_count": 5,
   "id": "2efccb21-3f91-4ea7-9969-e28a9ed6db66",
   "metadata": {},
   "outputs": [
    {
     "name": "stdout",
     "output_type": "stream",
     "text": [
      "1 : Iran’s culture, or contemporary Persian culture, has its roots in one of the most ancient civilizations in the Middle East.\n",
      "2 : Throughout history, the Persian cultural radiation of various kinds of literature and arts had a wide presence and influence that transcends the boundaries of place, extending to various parts of the world.\n",
      "3 : The emergence of Islam in the seventh century and the Arab conquests of Iran were a turning point for various types of arts and literature.\n",
      "4 : Persian music, along with other Persian cultural elements, became the main component of what has been termed “Islamic civilization”.\n",
      "5 : Where Persian literature emerged with the formation of the modern Persian language after the Arab conquest.\n",
      "6 : Thus, Language and literature joined forces for the advancement of intellect, before the emergence of the classical Persian literature, then its transformation into its modern styles later on, especially after the Khomeini’s revolution in 1979\n"
     ]
    }
   ],
   "source": [
    "i = 0\n",
    "\n",
    "for sentence in sentences:\n",
    "    i += 1\n",
    "    print(str(i) + \" : \" + sentence)"
   ]
  },
  {
   "cell_type": "code",
   "execution_count": 6,
   "id": "a822379e-2c78-49fa-b33e-b750941f43b0",
   "metadata": {},
   "outputs": [],
   "source": [
    "from nltk import word_tokenize"
   ]
  },
  {
   "cell_type": "code",
   "execution_count": 7,
   "id": "36e9afc7-6373-44e1-871f-c17d7ecbd2f3",
   "metadata": {},
   "outputs": [
    {
     "name": "stdout",
     "output_type": "stream",
     "text": [
      "------- Original Text : \n",
      "Iran’s culture, or contemporary Persian culture, has its roots in one of the most ancient civilizations in the Middle East. Throughout history, the Persian cultural radiation of various kinds of literature and arts had a wide presence and influence that transcends the boundaries of place, extending to various parts of the world. The emergence of Islam in the seventh century and the Arab conquests of Iran were a turning point for various types of arts and literature. Persian music, along with other Persian cultural elements, became the main component of what has been termed “Islamic civilization”. Where Persian literature emerged with the formation of the modern Persian language after the Arab conquest. Thus, Language and literature joined forces for the advancement of intellect, before the emergence of the classical Persian literature, then its transformation into its modern styles later on, especially after the Khomeini’s revolution in 1979\n",
      "\n",
      "\n",
      "------- Word : 168\n",
      "\n"
     ]
    }
   ],
   "source": [
    "words = word_tokenize(Text)\n",
    "\n",
    "print(\"------- Original Text : \\n\" + Text + \"\\n\\n\")\n",
    "print(\"------- Word : \" + str(len(words)) + \"\\n\")"
   ]
  },
  {
   "cell_type": "code",
   "execution_count": 8,
   "id": "4b5acec0-8cbe-41c5-b998-ffa0a96d864e",
   "metadata": {},
   "outputs": [
    {
     "name": "stdout",
     "output_type": "stream",
     "text": [
      "1 : Iran\n",
      "2 : ’\n",
      "3 : s\n",
      "4 : culture\n",
      "5 : ,\n",
      "6 : or\n",
      "7 : contemporary\n",
      "8 : Persian\n",
      "9 : culture\n",
      "10 : ,\n",
      "11 : has\n",
      "12 : its\n",
      "13 : roots\n",
      "14 : in\n",
      "15 : one\n",
      "16 : of\n",
      "17 : the\n",
      "18 : most\n",
      "19 : ancient\n",
      "20 : civilizations\n",
      "21 : in\n",
      "22 : the\n",
      "23 : Middle\n",
      "24 : East\n",
      "25 : .\n",
      "26 : Throughout\n",
      "27 : history\n",
      "28 : ,\n",
      "29 : the\n",
      "30 : Persian\n",
      "31 : cultural\n",
      "32 : radiation\n",
      "33 : of\n",
      "34 : various\n",
      "35 : kinds\n",
      "36 : of\n",
      "37 : literature\n",
      "38 : and\n",
      "39 : arts\n",
      "40 : had\n",
      "41 : a\n",
      "42 : wide\n",
      "43 : presence\n",
      "44 : and\n",
      "45 : influence\n",
      "46 : that\n",
      "47 : transcends\n",
      "48 : the\n",
      "49 : boundaries\n",
      "50 : of\n",
      "51 : place\n",
      "52 : ,\n",
      "53 : extending\n",
      "54 : to\n",
      "55 : various\n",
      "56 : parts\n",
      "57 : of\n",
      "58 : the\n",
      "59 : world\n",
      "60 : .\n",
      "61 : The\n",
      "62 : emergence\n",
      "63 : of\n",
      "64 : Islam\n",
      "65 : in\n",
      "66 : the\n",
      "67 : seventh\n",
      "68 : century\n",
      "69 : and\n",
      "70 : the\n",
      "71 : Arab\n",
      "72 : conquests\n",
      "73 : of\n",
      "74 : Iran\n",
      "75 : were\n",
      "76 : a\n",
      "77 : turning\n",
      "78 : point\n",
      "79 : for\n",
      "80 : various\n",
      "81 : types\n",
      "82 : of\n",
      "83 : arts\n",
      "84 : and\n",
      "85 : literature\n",
      "86 : .\n",
      "87 : Persian\n",
      "88 : music\n",
      "89 : ,\n",
      "90 : along\n",
      "91 : with\n",
      "92 : other\n",
      "93 : Persian\n",
      "94 : cultural\n",
      "95 : elements\n",
      "96 : ,\n",
      "97 : became\n",
      "98 : the\n",
      "99 : main\n",
      "100 : component\n",
      "101 : of\n",
      "102 : what\n",
      "103 : has\n",
      "104 : been\n",
      "105 : termed\n",
      "106 : “\n",
      "107 : Islamic\n",
      "108 : civilization\n",
      "109 : ”\n",
      "110 : .\n",
      "111 : Where\n",
      "112 : Persian\n",
      "113 : literature\n",
      "114 : emerged\n",
      "115 : with\n",
      "116 : the\n",
      "117 : formation\n",
      "118 : of\n",
      "119 : the\n",
      "120 : modern\n",
      "121 : Persian\n",
      "122 : language\n",
      "123 : after\n",
      "124 : the\n",
      "125 : Arab\n",
      "126 : conquest\n",
      "127 : .\n",
      "128 : Thus\n",
      "129 : ,\n",
      "130 : Language\n",
      "131 : and\n",
      "132 : literature\n",
      "133 : joined\n",
      "134 : forces\n",
      "135 : for\n",
      "136 : the\n",
      "137 : advancement\n",
      "138 : of\n",
      "139 : intellect\n",
      "140 : ,\n",
      "141 : before\n",
      "142 : the\n",
      "143 : emergence\n",
      "144 : of\n",
      "145 : the\n",
      "146 : classical\n",
      "147 : Persian\n",
      "148 : literature\n",
      "149 : ,\n",
      "150 : then\n",
      "151 : its\n",
      "152 : transformation\n",
      "153 : into\n",
      "154 : its\n",
      "155 : modern\n",
      "156 : styles\n",
      "157 : later\n",
      "158 : on\n",
      "159 : ,\n",
      "160 : especially\n",
      "161 : after\n",
      "162 : the\n",
      "163 : Khomeini\n",
      "164 : ’\n",
      "165 : s\n",
      "166 : revolution\n",
      "167 : in\n",
      "168 : 1979\n"
     ]
    }
   ],
   "source": [
    "i = 0\n",
    "\n",
    "for word in words:\n",
    "    i += 1\n",
    "    print(str(i) + \" : \" + word)"
   ]
  }
 ],
 "metadata": {
  "kernelspec": {
   "display_name": "Python 3 (ipykernel)",
   "language": "python",
   "name": "python3"
  },
  "language_info": {
   "codemirror_mode": {
    "name": "ipython",
    "version": 3
   },
   "file_extension": ".py",
   "mimetype": "text/x-python",
   "name": "python",
   "nbconvert_exporter": "python",
   "pygments_lexer": "ipython3",
   "version": "3.12.1"
  }
 },
 "nbformat": 4,
 "nbformat_minor": 5
}
