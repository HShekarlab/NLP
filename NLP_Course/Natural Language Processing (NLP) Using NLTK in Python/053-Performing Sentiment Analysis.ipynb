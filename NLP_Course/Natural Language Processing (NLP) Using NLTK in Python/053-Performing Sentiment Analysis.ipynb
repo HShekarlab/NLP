{
 "cells": [
  {
   "cell_type": "code",
   "execution_count": 1,
   "id": "52da3c79-5d81-42f8-b79f-23d55840e03d",
   "metadata": {},
   "outputs": [],
   "source": [
    "import nltk\n",
    "import nltk.sentiment.sentiment_analyzer\n",
    "import nltk.sentiment.util"
   ]
  },
  {
   "cell_type": "code",
   "execution_count": 2,
   "id": "34ad63f5-e743-4d06-a393-8f54535cacff",
   "metadata": {},
   "outputs": [],
   "source": [
    "def word_based_sentiment():\n",
    "    positive_words = [\"love\", \"hope\", \"joy\"]\n",
    "    text = \"Rainfall this year brings lot of hope and joy to Farmers.\".split()\n",
    "    analysis = nltk.sentiment.util.extract_bigram_feats(text, positive_words)\n",
    "    print(\"-- single word sentiment --\")\n",
    "    print(analysis)"
   ]
  },
  {
   "cell_type": "code",
   "execution_count": 3,
   "id": "6bf3265d-5681-4ccd-98aa-13bebb59e821",
   "metadata": {},
   "outputs": [],
   "source": [
    "def multi_word_based_sentiment():\n",
    "    word_sets = [(\"heavy\", \"rains\"), (\"flood\", \"bengalura\")]\n",
    "    text = \"heavy rains cause flash flooding in bengalura\".split()\n",
    "    analysis = nltk.sentiment.util.extract_bigram_feats(text, word_sets)\n",
    "    print(\"-- multi word sentiment --\")\n",
    "    print(analysis)"
   ]
  },
  {
   "cell_type": "code",
   "execution_count": 4,
   "id": "83997ea5-bede-4adb-8f0d-84ec901fad5f",
   "metadata": {},
   "outputs": [],
   "source": [
    "def mark_negativity():\n",
    "    text = \"Rainfall last year did not bring joy to Farmers\".split()\n",
    "    negation = nltk.sentiment.util.mark_negation(text)\n",
    "    print(\"-- negativity --\")\n",
    "    print(negation)"
   ]
  },
  {
   "cell_type": "code",
   "execution_count": 5,
   "id": "c0362059-dba6-4bac-b8ee-4e677d0650b3",
   "metadata": {},
   "outputs": [
    {
     "name": "stdout",
     "output_type": "stream",
     "text": [
      "-- single word sentiment --\n",
      "{'contains(l - o)': False, 'contains(h - o)': False, 'contains(j - o)': False}\n",
      "-- multi word sentiment --\n",
      "{'contains(heavy - rains)': True, 'contains(flood - bengalura)': False}\n",
      "-- negativity --\n",
      "['Rainfall', 'last', 'year', 'did', 'not', 'bring_NEG', 'joy_NEG', 'to_NEG', 'Farmers_NEG']\n"
     ]
    }
   ],
   "source": [
    "if __name__ == \"__main__\":\n",
    "    word_based_sentiment()\n",
    "    multi_word_based_sentiment()\n",
    "    mark_negativity()"
   ]
  }
 ],
 "metadata": {
  "kernelspec": {
   "display_name": "Python 3 (ipykernel)",
   "language": "python",
   "name": "python3"
  },
  "language_info": {
   "codemirror_mode": {
    "name": "ipython",
    "version": 3
   },
   "file_extension": ".py",
   "mimetype": "text/x-python",
   "name": "python",
   "nbconvert_exporter": "python",
   "pygments_lexer": "ipython3",
   "version": "3.12.1"
  }
 },
 "nbformat": 4,
 "nbformat_minor": 5
}
