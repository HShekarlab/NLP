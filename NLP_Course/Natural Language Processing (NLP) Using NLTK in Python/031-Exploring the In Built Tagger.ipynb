{
 "cells": [
  {
   "cell_type": "code",
   "execution_count": 1,
   "id": "e8eda540-9725-4d55-855d-8d9636173b29",
   "metadata": {},
   "outputs": [],
   "source": [
    "import nltk"
   ]
  },
  {
   "cell_type": "code",
   "execution_count": 2,
   "id": "862b479a-04bd-4481-875e-4a0e8e3e7206",
   "metadata": {},
   "outputs": [
    {
     "name": "stdout",
     "output_type": "stream",
     "text": [
      "Paris is the capital of France.\n"
     ]
    }
   ],
   "source": [
    "simple_sentence = \"Paris is the capital of France.\"\n",
    "print(simple_sentence)"
   ]
  },
  {
   "cell_type": "code",
   "execution_count": 3,
   "id": "44cf90bd-caf9-4d9b-a5bd-6777f300d6fe",
   "metadata": {},
   "outputs": [
    {
     "name": "stdout",
     "output_type": "stream",
     "text": [
      "['Paris', 'is', 'the', 'capital', 'of', 'France', '.']\n"
     ]
    }
   ],
   "source": [
    "words_in_sentence = nltk.word_tokenize(simple_sentence)\n",
    "print(words_in_sentence)"
   ]
  },
  {
   "cell_type": "code",
   "execution_count": 4,
   "id": "912c3fe3-1680-498d-85af-6bddbcbeb8ab",
   "metadata": {},
   "outputs": [
    {
     "name": "stdout",
     "output_type": "stream",
     "text": [
      "[('Paris', 'NNP'), ('is', 'VBZ'), ('the', 'DT'), ('capital', 'NN'), ('of', 'IN'), ('France', 'NNP'), ('.', '.')]\n"
     ]
    }
   ],
   "source": [
    "parts_of_speech_tags = nltk.pos_tag(words_in_sentence)\n",
    "print(parts_of_speech_tags)"
   ]
  }
 ],
 "metadata": {
  "kernelspec": {
   "display_name": "Python 3 (ipykernel)",
   "language": "python",
   "name": "python3"
  },
  "language_info": {
   "codemirror_mode": {
    "name": "ipython",
    "version": 3
   },
   "file_extension": ".py",
   "mimetype": "text/x-python",
   "name": "python",
   "nbconvert_exporter": "python",
   "pygments_lexer": "ipython3",
   "version": "3.12.1"
  }
 },
 "nbformat": 4,
 "nbformat_minor": 5
}
