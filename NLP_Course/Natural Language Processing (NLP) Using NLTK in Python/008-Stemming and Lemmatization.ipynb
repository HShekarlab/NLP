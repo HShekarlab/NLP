{
 "cells": [
  {
   "cell_type": "code",
   "execution_count": 1,
   "id": "611e81f7-ddc3-453b-bc33-4c013485ee5e",
   "metadata": {},
   "outputs": [],
   "source": [
    "import nltk\n",
    "from nltk import word_tokenize\n",
    "from nltk.corpus import stopwords\n",
    "import string\n",
    "from nltk import pos_tag"
   ]
  },
  {
   "cell_type": "code",
   "execution_count": 2,
   "id": "b6f5e584-4253-424c-b07f-8df4fa5876c8",
   "metadata": {},
   "outputs": [],
   "source": [
    "Text = \"Iran’s culture, or contemporary Persian culture, has its roots in one of the most ancient civilizations in the Middle East.\\\n",
    "Throughout history, the Persian cultural radiation of various kinds of literature and arts had a wide presence and influence that transcends the boundaries of place, extending to various parts of the world.\\\n",
    "The emergence of Islam in the seventh century and the Arab conquests of Iran were a turning point for various types of arts and literature.\\\n",
    "Persian music, along with other Persian cultural elements, became the main component of what has been termed “Islamic civilization”.\\\n",
    "Where Persian literature emerged with the formation of the modern Persian language after the Arab conquest.\\\n",
    "Thus, Language and literature joined forces for the advancement of intellect, before the emergence of the classical Persian literature, then its transformation into its modern styles later on, especially after the Khomeini’s revolution in 1979\""
   ]
  },
  {
   "cell_type": "code",
   "execution_count": 3,
   "id": "e688277f-b8e5-477a-b6f9-f1e1967ad1d2",
   "metadata": {},
   "outputs": [],
   "source": [
    "words = word_tokenize(Text)"
   ]
  },
  {
   "cell_type": "code",
   "execution_count": 4,
   "id": "721c0563-b5ea-4da8-9950-ff24e2455511",
   "metadata": {},
   "outputs": [],
   "source": [
    "stop_words = set(stopwords.words(\"english\"))\n",
    "stop_words = stop_words.union(string.punctuation)  \n",
    "\n",
    "clean_words = [w for w in words if not w in stop_words]"
   ]
  },
  {
   "cell_type": "code",
   "execution_count": 5,
   "id": "7dcffeac-327b-4a69-b6dd-272f41203fc9",
   "metadata": {},
   "outputs": [],
   "source": [
    "tagged_words = pos_tag(clean_words)"
   ]
  },
  {
   "cell_type": "code",
   "execution_count": 6,
   "id": "7c6493cd-6487-4fa1-8e90-66de4c5696c5",
   "metadata": {},
   "outputs": [],
   "source": [
    "from nltk.stem.lancaster import LancasterStemmer"
   ]
  },
  {
   "cell_type": "code",
   "execution_count": 7,
   "id": "6a6c91f6-837d-420b-8bc8-53c8af568358",
   "metadata": {},
   "outputs": [],
   "source": [
    "stemmer = LancasterStemmer()"
   ]
  },
  {
   "cell_type": "code",
   "execution_count": 8,
   "id": "09ab885d-6dde-4815-8dc2-fba7c10e37e0",
   "metadata": {},
   "outputs": [
    {
     "name": "stdout",
     "output_type": "stream",
     "text": [
      "1- Iran : ir\n",
      "2- ’ : ’\n",
      "3- culture : cult\n",
      "4- contemporary : contemp\n",
      "5- Persian : pers\n",
      "6- culture : cult\n",
      "7- roots : root\n",
      "8- one : on\n",
      "9- ancient : ant\n",
      "10- civilizations : civil\n",
      "11- Middle : middl\n",
      "12- East.Throughout : east.throughout\n",
      "13- history : hist\n",
      "14- Persian : pers\n",
      "15- cultural : cult\n",
      "16- radiation : rady\n",
      "17- various : vary\n",
      "18- kinds : kind\n",
      "19- literature : lit\n",
      "20- arts : art\n",
      "21- wide : wid\n",
      "22- presence : pres\n",
      "23- influence : influ\n",
      "24- transcends : transcend\n",
      "25- boundaries : bound\n",
      "26- place : plac\n",
      "27- extending : extend\n",
      "28- various : vary\n",
      "29- parts : part\n",
      "30- world.The : world.the\n",
      "31- emergence : emerg\n",
      "32- Islam : islam\n",
      "33- seventh : seven\n",
      "34- century : century\n",
      "35- Arab : arab\n",
      "36- conquests : conquest\n",
      "37- Iran : ir\n",
      "38- turning : turn\n",
      "39- point : point\n",
      "40- various : vary\n",
      "41- types : typ\n",
      "42- arts : art\n",
      "43- literature.Persian : literature.persian\n",
      "44- music : mus\n",
      "45- along : along\n",
      "46- Persian : pers\n",
      "47- cultural : cult\n",
      "48- elements : el\n",
      "49- became : becam\n",
      "50- main : main\n",
      "51- component : compon\n",
      "52- termed : term\n",
      "53- “ : “\n",
      "54- Islamic : islam\n",
      "55- civilization : civil\n",
      "56- ” : ”\n",
      "57- .Where : .where\n",
      "58- Persian : pers\n",
      "59- literature : lit\n",
      "60- emerged : emerg\n",
      "61- formation : form\n",
      "62- modern : modern\n",
      "63- Persian : pers\n",
      "64- language : langu\n",
      "65- Arab : arab\n",
      "66- conquest.Thus : conquest.thus\n",
      "67- Language : langu\n",
      "68- literature : lit\n",
      "69- joined : join\n",
      "70- forces : forc\n",
      "71- advancement : adv\n",
      "72- intellect : intellect\n",
      "73- emergence : emerg\n",
      "74- classical : class\n",
      "75- Persian : pers\n",
      "76- literature : lit\n",
      "77- transformation : transform\n",
      "78- modern : modern\n",
      "79- styles : styl\n",
      "80- later : lat\n",
      "81- especially : espec\n",
      "82- Khomeini : khomein\n",
      "83- ’ : ’\n",
      "84- revolution : revolv\n",
      "85- 1979 : 1979\n"
     ]
    }
   ],
   "source": [
    "i = 0\n",
    "\n",
    "for word in clean_words:\n",
    "    i += 1\n",
    "    print(str(i) + \"- \" + word + \" : \" + stemmer.stem(word))"
   ]
  }
 ],
 "metadata": {
  "kernelspec": {
   "display_name": "Python 3 (ipykernel)",
   "language": "python",
   "name": "python3"
  },
  "language_info": {
   "codemirror_mode": {
    "name": "ipython",
    "version": 3
   },
   "file_extension": ".py",
   "mimetype": "text/x-python",
   "name": "python",
   "nbconvert_exporter": "python",
   "pygments_lexer": "ipython3",
   "version": "3.12.1"
  }
 },
 "nbformat": 4,
 "nbformat_minor": 5
}
