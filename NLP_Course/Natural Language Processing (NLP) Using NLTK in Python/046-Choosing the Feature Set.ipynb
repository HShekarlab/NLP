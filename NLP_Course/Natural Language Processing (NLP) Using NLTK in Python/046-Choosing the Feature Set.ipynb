{
 "cells": [
  {
   "cell_type": "code",
   "execution_count": 1,
   "id": "973b58eb-bd8a-47c8-9a9c-3d0022bc88b7",
   "metadata": {},
   "outputs": [],
   "source": [
    "import nltk\n",
    "import random"
   ]
  },
  {
   "cell_type": "code",
   "execution_count": 2,
   "id": "468e33a3-e290-4de0-a092-e00bc54e82a1",
   "metadata": {},
   "outputs": [],
   "source": [
    "sample_data = [\n",
    "    (\"KA-01-F 1034 A\", \"rtc\"),\n",
    "    (\"KA-02-F 1030 B\", \"rtc\"),\n",
    "    (\"KA-03-FA 1200 C\", \"rtc\"),\n",
    "    (\"KA-01-G 0001 A\", \"gov\"),\n",
    "    (\"KA-02-G 1004 A\", \"gov\"),\n",
    "    (\"KA-03-G 0204 A\", \"gov\"),\n",
    "    (\"KA-04-G 9230 A\", \"gov\"),\n",
    "    (\"KA-27 1290\", \"oth\")\n",
    "]"
   ]
  },
  {
   "cell_type": "code",
   "execution_count": 3,
   "id": "0f6b02ff-b758-450b-829a-9bd85b95c968",
   "metadata": {},
   "outputs": [],
   "source": [
    "random.shuffle(sample_data)"
   ]
  },
  {
   "cell_type": "code",
   "execution_count": 4,
   "id": "0f897b93-7553-4fea-bd2b-93ed724d3164",
   "metadata": {},
   "outputs": [],
   "source": [
    "test_data = [\n",
    "    \"KA-01-G 0109\",\n",
    "    \"KA-02-F 9020 AC\",\n",
    "    \"KA-02-FA 0801\",\n",
    "    \"KA-01 9129\"\n",
    "]"
   ]
  },
  {
   "cell_type": "code",
   "execution_count": 5,
   "id": "577c1ce3-0252-4080-a6c2-935946c8e395",
   "metadata": {},
   "outputs": [],
   "source": [
    "def Learn_Simple_Feature():\n",
    "    def vehicle_Number_Feature(vnumber):\n",
    "        return {\"vehicle_class\": vnumber[6]}\n",
    "    feature_sets = [(vehicle_Number_Feature(vn), cls) for (vn, cls) in sample_data]\n",
    "    classifier = nltk.NaiveBayesClassifier.train(feature_sets)\n",
    "    for num in test_data:\n",
    "        feature = vehicle_Number_Feature(num)\n",
    "        print(\"(simple) %s is of type %s\" %(num, classifier.classify(feature)))"
   ]
  },
  {
   "cell_type": "code",
   "execution_count": 6,
   "id": "ea66166a-0575-4d31-81b3-39b34e5531a8",
   "metadata": {},
   "outputs": [],
   "source": [
    "def Learn_Feature():\n",
    "    def vehicle_Number_Feature(vnumber):\n",
    "        return {\n",
    "            \"vehicle_class\": vnumber[6],\n",
    "            \"vehicle_prev\": vnumber[5]\n",
    "            }\n",
    "    feature_sets = [(vehicle_Number_Feature(vn), cls) for (vn, cls) in sample_data]\n",
    "    classifier = nltk.NaiveBayesClassifier.train(feature_sets)\n",
    "    for num in test_data:\n",
    "        feature = vehicle_Number_Feature(num)\n",
    "        print(\"(simple) %s is of type %s\" %(num, classifier.classify(feature)))"
   ]
  },
  {
   "cell_type": "code",
   "execution_count": 7,
   "id": "1b21528c-1130-4869-a1f3-97ed69a18497",
   "metadata": {},
   "outputs": [
    {
     "name": "stdout",
     "output_type": "stream",
     "text": [
      "(simple) KA-01-G 0109 is of type gov\n",
      "(simple) KA-02-F 9020 AC is of type rtc\n",
      "(simple) KA-02-FA 0801 is of type rtc\n",
      "(simple) KA-01 9129 is of type gov\n",
      "(simple) KA-01-G 0109 is of type gov\n",
      "(simple) KA-02-F 9020 AC is of type rtc\n",
      "(simple) KA-02-FA 0801 is of type rtc\n",
      "(simple) KA-01 9129 is of type oth\n"
     ]
    }
   ],
   "source": [
    "Learn_Simple_Feature()\n",
    "Learn_Feature()"
   ]
  }
 ],
 "metadata": {
  "kernelspec": {
   "display_name": "Python 3 (ipykernel)",
   "language": "python",
   "name": "python3"
  },
  "language_info": {
   "codemirror_mode": {
    "name": "ipython",
    "version": 3
   },
   "file_extension": ".py",
   "mimetype": "text/x-python",
   "name": "python",
   "nbconvert_exporter": "python",
   "pygments_lexer": "ipython3",
   "version": "3.12.1"
  }
 },
 "nbformat": 4,
 "nbformat_minor": 5
}
