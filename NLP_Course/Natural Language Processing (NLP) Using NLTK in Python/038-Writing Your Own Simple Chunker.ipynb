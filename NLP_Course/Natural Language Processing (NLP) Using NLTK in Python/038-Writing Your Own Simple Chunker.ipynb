{
 "cells": [
  {
   "cell_type": "code",
   "execution_count": 1,
   "id": "7e58ec8c-7728-4dbb-9aa4-643309f8f491",
   "metadata": {},
   "outputs": [],
   "source": [
    "import nltk"
   ]
  },
  {
   "cell_type": "code",
   "execution_count": 2,
   "id": "e1f1db5c-a220-4540-8e48-eef0f0c24830",
   "metadata": {},
   "outputs": [],
   "source": [
    "text = \"When life is sweet, say thank you and celebrate. When life is bitter, say thank you and grow.\""
   ]
  },
  {
   "cell_type": "code",
   "execution_count": 3,
   "id": "30b68330-383d-4c5f-b7c6-fa6dbc14601b",
   "metadata": {},
   "outputs": [
    {
     "name": "stdout",
     "output_type": "stream",
     "text": [
      "['When life is sweet, say thank you and celebrate.', 'When life is bitter, say thank you and grow.']\n"
     ]
    }
   ],
   "source": [
    "sentences = nltk.sent_tokenize(text)\n",
    "print(sentences)"
   ]
  },
  {
   "cell_type": "code",
   "execution_count": 4,
   "id": "6eac5f5c-e1d1-4134-b9cd-86c6dab8223b",
   "metadata": {},
   "outputs": [
    {
     "name": "stdout",
     "output_type": "stream",
     "text": [
      "(S\n",
      "  When/WRB\n",
      "  life/NN\n",
      "  is/VBZ\n",
      "  sweet/JJ\n",
      "  ,/,\n",
      "  say/VBP\n",
      "  thank/NN\n",
      "  you/PRP\n",
      "  and/CC\n",
      "  celebrate/VB\n",
      "  ./.)\n",
      "(S\n",
      "  When/WRB\n",
      "  life/NN\n",
      "  is/VBZ\n",
      "  bitter/JJ\n",
      "  ,/,\n",
      "  say/VBP\n",
      "  thank/NN\n",
      "  you/PRP\n",
      "  and/CC\n",
      "  grow/VB\n",
      "  ./.)\n"
     ]
    }
   ],
   "source": [
    "for sentence in sentences:\n",
    "    words = nltk.word_tokenize(sentence)\n",
    "    tags = nltk.pos_tag(words)\n",
    "    chunk = nltk.ne_chunk(tags)\n",
    "    print(chunk)"
   ]
  },
  {
   "cell_type": "code",
   "execution_count": 5,
   "id": "6450907c-943d-4822-9f67-be2bee0e2115",
   "metadata": {},
   "outputs": [],
   "source": [
    "text = \"Life is like a piano… what you get out of it depends on how you play it.\""
   ]
  },
  {
   "cell_type": "code",
   "execution_count": 6,
   "id": "455b4f00-7f86-41c4-afd4-d833ef9c15aa",
   "metadata": {},
   "outputs": [],
   "source": [
    "grammar = \"\\n\".join([\n",
    "    \"NP: {<DT>*<NNP>}\",\n",
    "    \"NP: {<JJ>*<NN>}\",\n",
    "    \"NP: {<NNP>+}\"\n",
    "])"
   ]
  },
  {
   "cell_type": "code",
   "execution_count": 7,
   "id": "a193bed7-9bea-4f87-83be-490c434341db",
   "metadata": {},
   "outputs": [],
   "source": [
    "sentences = nltk.sent_tokenize(text)"
   ]
  },
  {
   "cell_type": "code",
   "execution_count": 8,
   "id": "8ce0afc3-989f-4fa6-9279-135faba5a040",
   "metadata": {},
   "outputs": [
    {
     "name": "stdout",
     "output_type": "stream",
     "text": [
      "(S\n",
      "  When/WRB\n",
      "  life/NN\n",
      "  is/VBZ\n",
      "  bitter/JJ\n",
      "  ,/,\n",
      "  say/VBP\n",
      "  thank/NN\n",
      "  you/PRP\n",
      "  and/CC\n",
      "  grow/VB\n",
      "  ./.)\n"
     ]
    }
   ],
   "source": [
    "for sentence in sentences:\n",
    "    words = nltk.word_tokenize(sentence)\n",
    "    tags = nltk.pos_tag(words)\n",
    "    chunk_parser = nltk.RegexpParser(grammar)\n",
    "    result = chunk_parser.parse(tags)\n",
    "    print(chunk)"
   ]
  }
 ],
 "metadata": {
  "kernelspec": {
   "display_name": "Python 3 (ipykernel)",
   "language": "python",
   "name": "python3"
  },
  "language_info": {
   "codemirror_mode": {
    "name": "ipython",
    "version": 3
   },
   "file_extension": ".py",
   "mimetype": "text/x-python",
   "name": "python",
   "nbconvert_exporter": "python",
   "pygments_lexer": "ipython3",
   "version": "3.12.1"
  }
 },
 "nbformat": 4,
 "nbformat_minor": 5
}
