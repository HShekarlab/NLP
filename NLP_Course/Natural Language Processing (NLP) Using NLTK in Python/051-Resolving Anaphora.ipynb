{
 "cells": [
  {
   "cell_type": "code",
   "execution_count": 1,
   "id": "d7025d6c-0428-441f-82fc-9e7a6e4cb4ae",
   "metadata": {},
   "outputs": [],
   "source": [
    "import random\n",
    "import nltk\n",
    "from nltk.corpus import names\n",
    "from nltk.chunk import tree2conlltags"
   ]
  },
  {
   "cell_type": "code",
   "execution_count": 2,
   "id": "183dc959-2858-47bc-a151-f22b37423f5c",
   "metadata": {},
   "outputs": [],
   "source": [
    "class Anaphora_Example:\n",
    "    def __init__(self):\n",
    "        males = [(name, \"male\") for name in names.words(\"male.txt\")]\n",
    "        females = [(name, \"female\") for name in names.words(\"female.txt\")]\n",
    "        combined = males + females\n",
    "        random.shuffle(combined)\n",
    "        training = [(self.feature(name), gender) for (name, gender) in combined]\n",
    "        self._classifier = nltk.NaiveBayesClassifier.train(training)\n",
    "\n",
    "    def feature(self, word):\n",
    "        return {\"last(1)\": word[-1]}\n",
    "    \n",
    "    def gender(self, word):\n",
    "        return self._classifier.classify(self.feature(word))\n",
    "    \n",
    "    def Learn_Anaphora(self):\n",
    "        sentence = [\n",
    "             \"Not all those who wander are lost.\",\n",
    "             \"A rose by any other name would smell as sweet.\",\n",
    "             \"If you really look closely, most overnight successes took a long time.\",\n",
    "             \"Do you know? A fortune that you don’t use, is others wish\"\n",
    "             \"What screws us up the most in life is the picture in our head of how it is supposed to be.\"\n",
    "        ]\n",
    "        for sent in sentence:\n",
    "            chunks = nltk.ne_chunk(nltk.pos_tag(nltk.word_tokenize(sent)), binary= False)\n",
    "            stack = []\n",
    "            print(sent)\n",
    "            items = tree2conlltags(chunks)\n",
    "            for item in items:\n",
    "                if item[1] == \"NNP\" and (item[2] == \"B-PERSON\" or item[2] == \"O\"):\n",
    "                    stack.append((item[0], self.gender(item[0])))\n",
    "                elif item[1] == \"CC\":\n",
    "                    stack.append(item[0])\n",
    "                elif item[1] == \"PRP\":\n",
    "                    stack.append(item[0])\n",
    "            print(\"\\t {}\".format(stack))"
   ]
  },
  {
   "cell_type": "code",
   "execution_count": 3,
   "id": "db1c3d96-d48b-4872-bdfa-073d4a4dc67d",
   "metadata": {},
   "outputs": [
    {
     "name": "stdout",
     "output_type": "stream",
     "text": [
      "Not all those who wander are lost.\n",
      "\t []\n",
      "A rose by any other name would smell as sweet.\n",
      "\t []\n",
      "If you really look closely, most overnight successes took a long time.\n",
      "\t ['you']\n",
      "Do you know? A fortune that you don’t use, is others wishWhat screws us up the most in life is the picture in our head of how it is supposed to be.\n",
      "\t ['you', 'you', 'us', 'it']\n"
     ]
    }
   ],
   "source": [
    "anaphora = Anaphora_Example()\n",
    "anaphora.Learn_Anaphora()"
   ]
  }
 ],
 "metadata": {
  "kernelspec": {
   "display_name": "Python 3 (ipykernel)",
   "language": "python",
   "name": "python3"
  },
  "language_info": {
   "codemirror_mode": {
    "name": "ipython",
    "version": 3
   },
   "file_extension": ".py",
   "mimetype": "text/x-python",
   "name": "python",
   "nbconvert_exporter": "python",
   "pygments_lexer": "ipython3",
   "version": "3.12.1"
  }
 },
 "nbformat": 4,
 "nbformat_minor": 5
}
