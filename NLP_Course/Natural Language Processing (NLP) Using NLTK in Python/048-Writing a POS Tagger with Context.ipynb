{
 "cells": [
  {
   "cell_type": "code",
   "execution_count": 1,
   "id": "b0abc15d-b54c-42ff-a27d-c36ba0f6b9e1",
   "metadata": {},
   "outputs": [],
   "source": [
    "import nltk"
   ]
  },
  {
   "cell_type": "code",
   "execution_count": 2,
   "id": "9bb4dd44-d04d-469d-a08e-036d422bbef7",
   "metadata": {},
   "outputs": [],
   "source": [
    "sentences = [\n",
    "    \"Not all those who wander are lost.\",\n",
    "    \"A rose by any other name would smell as sweet.\",\n",
    "    \"If you really look closely, most overnight successes took a long time.\",\n",
    "    \"Do you know? A fortune that you don’t use, is others wish\"\n",
    "    \"What screws us up the most in life is the picture in our head of how it is supposed to be.\"\n",
    "    \"I am not afraid of tomorrow, for I have seen yesterday and I love today White.\",\n",
    "    \"Forgiving is good…but forgetting is better.\"\n",
    "]"
   ]
  },
  {
   "cell_type": "code",
   "execution_count": 3,
   "id": "a6c0e9fb-9e5b-4acf-b205-6fcd2e494a1a",
   "metadata": {},
   "outputs": [],
   "source": [
    "def get_sentence_words():\n",
    "    sent_words = []\n",
    "    for sentence in sentences:\n",
    "        words = nltk.pos_tag(nltk.word_tokenize(sentence))\n",
    "        sent_words.append(words)\n",
    "    return sent_words"
   ]
  },
  {
   "cell_type": "code",
   "execution_count": 4,
   "id": "05ffcd4d-5e48-4cc8-9d8e-fd3d857391fb",
   "metadata": {},
   "outputs": [],
   "source": [
    "def no_context_Tagger():\n",
    "    tagger = nltk.UnigramTagger(get_sentence_words())\n",
    "    print(tagger.tag(\"the little remarks towards assembly are laughable\".split()))"
   ]
  },
  {
   "cell_type": "code",
   "execution_count": 5,
   "id": "0b426165-7d87-4ab8-8437-d3f354654f07",
   "metadata": {},
   "outputs": [],
   "source": [
    "def with_context_Tagger():\n",
    "    def word_features(words, word_POS_in_sentence):\n",
    "        end_features = {\n",
    "            \"last(1)\": words[word_POS_in_sentence][-1],\n",
    "            \"last(2)\": words[word_POS_in_sentence][-2:],\n",
    "            \"last(3)\": words[word_POS_in_sentence][-3:]\n",
    "        }\n",
    "        if word_POS_in_sentence > 1:\n",
    "            end_features[\"prev\"] = words[word_POS_in_sentence - 1]\n",
    "        else:\n",
    "            end_features[\"prev\"] = \"|NONE|\"\n",
    "        return end_features\n",
    "    all_sentence = get_sentence_words()\n",
    "    featured_data = []\n",
    "    for sentence in all_sentence:\n",
    "        untagged_Sentence = nltk.tag.untag(sentence)\n",
    "        featured_sentence = [(word_features(untagged_Sentence, index), tag) for index, (word, tag) in enumerate(sentence)]\n",
    "        featured_data.extend(featured_sentence)\n",
    "    breakup = int(len(featured_data) * 0.5)\n",
    "    train_data = featured_data[breakup:]\n",
    "    test_data = featured_data[:breakup]\n",
    "    classifier = nltk.NaiveBayesClassifier.train(train_data)\n",
    "    print(\"Accuracy of the classifier : {}\".format(nltk.classify.accuracy(classifier, test_data)))"
   ]
  },
  {
   "cell_type": "code",
   "execution_count": 6,
   "id": "1e91a34c-37fa-49c8-b747-7ee8fc207833",
   "metadata": {},
   "outputs": [
    {
     "name": "stdout",
     "output_type": "stream",
     "text": [
      "[('the', 'DT'), ('little', None), ('remarks', None), ('towards', None), ('assembly', None), ('are', 'VBP'), ('laughable', None)]\n",
      "Accuracy of the classifier : 0.17391304347826086\n"
     ]
    }
   ],
   "source": [
    "no_context_Tagger()\n",
    "with_context_Tagger()"
   ]
  }
 ],
 "metadata": {
  "kernelspec": {
   "display_name": "Python 3 (ipykernel)",
   "language": "python",
   "name": "python3"
  },
  "language_info": {
   "codemirror_mode": {
    "name": "ipython",
    "version": 3
   },
   "file_extension": ".py",
   "mimetype": "text/x-python",
   "name": "python",
   "nbconvert_exporter": "python",
   "pygments_lexer": "ipython3",
   "version": "3.12.1"
  }
 },
 "nbformat": 4,
 "nbformat_minor": 5
}
