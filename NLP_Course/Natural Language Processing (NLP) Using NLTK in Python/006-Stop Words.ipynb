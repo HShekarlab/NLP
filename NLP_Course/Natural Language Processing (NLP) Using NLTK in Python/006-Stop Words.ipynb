{
 "cells": [
  {
   "cell_type": "code",
   "execution_count": 1,
   "id": "eceb8ba5-4792-46c3-a056-457d45b6d702",
   "metadata": {},
   "outputs": [],
   "source": [
    "import nltk"
   ]
  },
  {
   "cell_type": "code",
   "execution_count": 2,
   "id": "390d04ae-0165-414c-b94f-b781592268da",
   "metadata": {},
   "outputs": [],
   "source": [
    "Text = \"Iran’s culture, or contemporary Persian culture, has its roots in one of the most ancient civilizations in the Middle East.\\\n",
    "Throughout history, the Persian cultural radiation of various kinds of literature and arts had a wide presence and influence that transcends the boundaries of place, extending to various parts of the world.\\\n",
    "The emergence of Islam in the seventh century and the Arab conquests of Iran were a turning point for various types of arts and literature.\\\n",
    "Persian music, along with other Persian cultural elements, became the main component of what has been termed “Islamic civilization”.\\\n",
    "Where Persian literature emerged with the formation of the modern Persian language after the Arab conquest.\\\n",
    "Thus, Language and literature joined forces for the advancement of intellect, before the emergence of the classical Persian literature, then its transformation into its modern styles later on, especially after the Khomeini’s revolution in 1979\""
   ]
  },
  {
   "cell_type": "code",
   "execution_count": 3,
   "id": "a172465f-d564-4678-96ef-3f6eb05c09c9",
   "metadata": {},
   "outputs": [],
   "source": [
    "from nltk import word_tokenize"
   ]
  },
  {
   "cell_type": "code",
   "execution_count": 4,
   "id": "c65f1d56-e295-47c3-bbac-e1af0c796006",
   "metadata": {},
   "outputs": [
    {
     "name": "stdout",
     "output_type": "stream",
     "text": [
      "------- Original Text : \n",
      "Iran’s culture, or contemporary Persian culture, has its roots in one of the most ancient civilizations in the Middle East.Throughout history, the Persian cultural radiation of various kinds of literature and arts had a wide presence and influence that transcends the boundaries of place, extending to various parts of the world.The emergence of Islam in the seventh century and the Arab conquests of Iran were a turning point for various types of arts and literature.Persian music, along with other Persian cultural elements, became the main component of what has been termed “Islamic civilization”.Where Persian literature emerged with the formation of the modern Persian language after the Arab conquest.Thus, Language and literature joined forces for the advancement of intellect, before the emergence of the classical Persian literature, then its transformation into its modern styles later on, especially after the Khomeini’s revolution in 1979\n",
      "\n",
      "\n",
      "------- Word : 159\n",
      "\n"
     ]
    }
   ],
   "source": [
    "words = word_tokenize(Text)\n",
    "\n",
    "print(\"------- Original Text : \\n\" + Text + \"\\n\\n\")\n",
    "print(\"------- Word : \" + str(len(words)) + \"\\n\")"
   ]
  },
  {
   "cell_type": "code",
   "execution_count": 5,
   "id": "b8ef8713-f0eb-47b0-b3ae-c37881f4e018",
   "metadata": {},
   "outputs": [
    {
     "name": "stdout",
     "output_type": "stream",
     "text": [
      "1 : Iran\n",
      "2 : ’\n",
      "3 : s\n",
      "4 : culture\n",
      "5 : ,\n",
      "6 : or\n",
      "7 : contemporary\n",
      "8 : Persian\n",
      "9 : culture\n",
      "10 : ,\n",
      "11 : has\n",
      "12 : its\n",
      "13 : roots\n",
      "14 : in\n",
      "15 : one\n",
      "16 : of\n",
      "17 : the\n",
      "18 : most\n",
      "19 : ancient\n",
      "20 : civilizations\n",
      "21 : in\n",
      "22 : the\n",
      "23 : Middle\n",
      "24 : East.Throughout\n",
      "25 : history\n",
      "26 : ,\n",
      "27 : the\n",
      "28 : Persian\n",
      "29 : cultural\n",
      "30 : radiation\n",
      "31 : of\n",
      "32 : various\n",
      "33 : kinds\n",
      "34 : of\n",
      "35 : literature\n",
      "36 : and\n",
      "37 : arts\n",
      "38 : had\n",
      "39 : a\n",
      "40 : wide\n",
      "41 : presence\n",
      "42 : and\n",
      "43 : influence\n",
      "44 : that\n",
      "45 : transcends\n",
      "46 : the\n",
      "47 : boundaries\n",
      "48 : of\n",
      "49 : place\n",
      "50 : ,\n",
      "51 : extending\n",
      "52 : to\n",
      "53 : various\n",
      "54 : parts\n",
      "55 : of\n",
      "56 : the\n",
      "57 : world.The\n",
      "58 : emergence\n",
      "59 : of\n",
      "60 : Islam\n",
      "61 : in\n",
      "62 : the\n",
      "63 : seventh\n",
      "64 : century\n",
      "65 : and\n",
      "66 : the\n",
      "67 : Arab\n",
      "68 : conquests\n",
      "69 : of\n",
      "70 : Iran\n",
      "71 : were\n",
      "72 : a\n",
      "73 : turning\n",
      "74 : point\n",
      "75 : for\n",
      "76 : various\n",
      "77 : types\n",
      "78 : of\n",
      "79 : arts\n",
      "80 : and\n",
      "81 : literature.Persian\n",
      "82 : music\n",
      "83 : ,\n",
      "84 : along\n",
      "85 : with\n",
      "86 : other\n",
      "87 : Persian\n",
      "88 : cultural\n",
      "89 : elements\n",
      "90 : ,\n",
      "91 : became\n",
      "92 : the\n",
      "93 : main\n",
      "94 : component\n",
      "95 : of\n",
      "96 : what\n",
      "97 : has\n",
      "98 : been\n",
      "99 : termed\n",
      "100 : “\n",
      "101 : Islamic\n",
      "102 : civilization\n",
      "103 : ”\n",
      "104 : .Where\n",
      "105 : Persian\n",
      "106 : literature\n",
      "107 : emerged\n",
      "108 : with\n",
      "109 : the\n",
      "110 : formation\n",
      "111 : of\n",
      "112 : the\n",
      "113 : modern\n",
      "114 : Persian\n",
      "115 : language\n",
      "116 : after\n",
      "117 : the\n",
      "118 : Arab\n",
      "119 : conquest.Thus\n",
      "120 : ,\n",
      "121 : Language\n",
      "122 : and\n",
      "123 : literature\n",
      "124 : joined\n",
      "125 : forces\n",
      "126 : for\n",
      "127 : the\n",
      "128 : advancement\n",
      "129 : of\n",
      "130 : intellect\n",
      "131 : ,\n",
      "132 : before\n",
      "133 : the\n",
      "134 : emergence\n",
      "135 : of\n",
      "136 : the\n",
      "137 : classical\n",
      "138 : Persian\n",
      "139 : literature\n",
      "140 : ,\n",
      "141 : then\n",
      "142 : its\n",
      "143 : transformation\n",
      "144 : into\n",
      "145 : its\n",
      "146 : modern\n",
      "147 : styles\n",
      "148 : later\n",
      "149 : on\n",
      "150 : ,\n",
      "151 : especially\n",
      "152 : after\n",
      "153 : the\n",
      "154 : Khomeini\n",
      "155 : ’\n",
      "156 : s\n",
      "157 : revolution\n",
      "158 : in\n",
      "159 : 1979\n"
     ]
    }
   ],
   "source": [
    "i = 0\n",
    "\n",
    "for word in words:\n",
    "    i += 1\n",
    "    print(str(i) + \" : \" + word)"
   ]
  },
  {
   "cell_type": "code",
   "execution_count": 6,
   "id": "58f386dc-37d6-47ae-adb9-d818a8d63fea",
   "metadata": {},
   "outputs": [
    {
     "name": "stdout",
     "output_type": "stream",
     "text": [
      "------- Word Count : 159\n"
     ]
    }
   ],
   "source": [
    "words = word_tokenize(Text)\n",
    "\n",
    "print(\"------- Word Count : \" + str(len(words)))"
   ]
  },
  {
   "cell_type": "markdown",
   "id": "c9eca1fc-ecc6-4864-9fc5-d61d8b5fb233",
   "metadata": {},
   "source": [
    "*Remove Stop Words*"
   ]
  },
  {
   "cell_type": "code",
   "execution_count": 7,
   "id": "e11dc959-eabd-4efc-a4a1-772c19ec0eb9",
   "metadata": {},
   "outputs": [],
   "source": [
    "from nltk.corpus import stopwords\n",
    "import string"
   ]
  },
  {
   "cell_type": "code",
   "execution_count": 8,
   "id": "5ac8b54b-ea78-4f8c-b4b4-4b1d322e0900",
   "metadata": {},
   "outputs": [],
   "source": [
    "stop_words = set(stopwords.words(\"english\"))\n",
    "stop_words = stop_words.union(string.punctuation)  # Delete ===> , : ' \" . ? ! @ # $ ..."
   ]
  },
  {
   "cell_type": "code",
   "execution_count": 9,
   "id": "055f9542-1741-45f5-b13e-171fee1bd1d2",
   "metadata": {},
   "outputs": [
    {
     "name": "stdout",
     "output_type": "stream",
     "text": [
      "{'in', 'his', 'of', 'against', 'same', 'above', 'himself', '(', 'am', 'only', 'the', 'was', \"hadn't\", \"don't\", 'themselves', 'other', 'do', 'me', '\"', 'while', 'just', 'd', 'll', 'which', 'once', 'did', '*', 'from', \"won't\", 'our', 'up', 'mightn', 'before', 'it', '-', '~', \"hasn't\", '!', \"couldn't\", 's', '.', 'over', \"'\", 'isn', 'those', 'an', 'who', '+', '[', \"she's\", 'such', 'herself', \"wasn't\", 'and', 'again', 'couldn', 'ma', 'too', 'below', 'i', 'hasn', \"needn't\", 'o', 'what', 'needn', \"weren't\", ';', '\\\\', 'should', 'some', \"shan't\", 'nor', '^', 'all', 'both', 'shan', 'these', 'on', 'very', 'now', \"mightn't\", 're', 'm', \"didn't\", 'but', '#', 'any', 'y', '<', \"wouldn't\", \"doesn't\", 'more', 'under', 'him', 'by', 'didn', 'have', 'each', '%', '|', 'is', 'weren', 'them', 'further', 'won', 'most', 'your', 'through', 'you', \"should've\", 'during', 'will', 'yourself', 'until', 'down', 'ain', \"mustn't\", '?', 'then', 'aren', 'hadn', '=', 'itself', 'having', 'her', 'off', '/', 'few', 'into', 'a', 'here', 'there', ']', 'with', 'so', 'haven', 'are', 'myself', \"that'll\", 'has', 'for', \"haven't\", '`', 'doesn', 'because', 'be', ',', 'own', 'ours', \"isn't\", 'being', 'he', 'at', 'its', 't', 'wouldn', \"it's\", 'if', 'yours', 'does', '$', 'out', \"you'll\", 'between', 'how', 'to', 'as', 'yourselves', \"you're\", 'after', '>', 'theirs', 'been', 'don', 'can', 'about', 'hers', 'where', 'their', '{', 'she', 'whom', \"you'd\", 'this', 'shouldn', 'not', '_', 'they', \"aren't\", 'when', '&', 'we', 'doing', '}', 'or', 'that', 'than', 've', 'were', 'had', 'why', ')', ':', \"you've\", 'no', '@', 'ourselves', 'mustn', 'wasn', 'my', \"shouldn't\"}\n"
     ]
    }
   ],
   "source": [
    "print(stop_words)"
   ]
  },
  {
   "cell_type": "code",
   "execution_count": 10,
   "id": "c42b3760-748e-4c47-a0e1-7f47b082cb6a",
   "metadata": {},
   "outputs": [],
   "source": [
    "clean_words = [w for w in words if not w in stop_words]"
   ]
  },
  {
   "cell_type": "code",
   "execution_count": 11,
   "id": "bb748c50-2b35-4075-9347-d674ec182414",
   "metadata": {},
   "outputs": [
    {
     "name": "stdout",
     "output_type": "stream",
     "text": [
      "------- Clean Word Count : 85\n"
     ]
    }
   ],
   "source": [
    "print(\"------- Clean Word Count : \" + str(len(clean_words)))"
   ]
  },
  {
   "cell_type": "code",
   "execution_count": 12,
   "id": "d7d19794-0bf3-4337-853a-4982c63164f7",
   "metadata": {},
   "outputs": [
    {
     "name": "stdout",
     "output_type": "stream",
     "text": [
      "1 : Iran\n",
      "2 : ’\n",
      "3 : culture\n",
      "4 : contemporary\n",
      "5 : Persian\n",
      "6 : culture\n",
      "7 : roots\n",
      "8 : one\n",
      "9 : ancient\n",
      "10 : civilizations\n",
      "11 : Middle\n",
      "12 : East.Throughout\n",
      "13 : history\n",
      "14 : Persian\n",
      "15 : cultural\n",
      "16 : radiation\n",
      "17 : various\n",
      "18 : kinds\n",
      "19 : literature\n",
      "20 : arts\n",
      "21 : wide\n",
      "22 : presence\n",
      "23 : influence\n",
      "24 : transcends\n",
      "25 : boundaries\n",
      "26 : place\n",
      "27 : extending\n",
      "28 : various\n",
      "29 : parts\n",
      "30 : world.The\n",
      "31 : emergence\n",
      "32 : Islam\n",
      "33 : seventh\n",
      "34 : century\n",
      "35 : Arab\n",
      "36 : conquests\n",
      "37 : Iran\n",
      "38 : turning\n",
      "39 : point\n",
      "40 : various\n",
      "41 : types\n",
      "42 : arts\n",
      "43 : literature.Persian\n",
      "44 : music\n",
      "45 : along\n",
      "46 : Persian\n",
      "47 : cultural\n",
      "48 : elements\n",
      "49 : became\n",
      "50 : main\n",
      "51 : component\n",
      "52 : termed\n",
      "53 : “\n",
      "54 : Islamic\n",
      "55 : civilization\n",
      "56 : ”\n",
      "57 : .Where\n",
      "58 : Persian\n",
      "59 : literature\n",
      "60 : emerged\n",
      "61 : formation\n",
      "62 : modern\n",
      "63 : Persian\n",
      "64 : language\n",
      "65 : Arab\n",
      "66 : conquest.Thus\n",
      "67 : Language\n",
      "68 : literature\n",
      "69 : joined\n",
      "70 : forces\n",
      "71 : advancement\n",
      "72 : intellect\n",
      "73 : emergence\n",
      "74 : classical\n",
      "75 : Persian\n",
      "76 : literature\n",
      "77 : transformation\n",
      "78 : modern\n",
      "79 : styles\n",
      "80 : later\n",
      "81 : especially\n",
      "82 : Khomeini\n",
      "83 : ’\n",
      "84 : revolution\n",
      "85 : 1979\n"
     ]
    }
   ],
   "source": [
    "i = 0\n",
    "\n",
    "for word in clean_words:\n",
    "    i += 1\n",
    "    print(str(i) + \" : \" + word) "
   ]
  }
 ],
 "metadata": {
  "kernelspec": {
   "display_name": "Python 3 (ipykernel)",
   "language": "python",
   "name": "python3"
  },
  "language_info": {
   "codemirror_mode": {
    "name": "ipython",
    "version": 3
   },
   "file_extension": ".py",
   "mimetype": "text/x-python",
   "name": "python",
   "nbconvert_exporter": "python",
   "pygments_lexer": "ipython3",
   "version": "3.12.1"
  }
 },
 "nbformat": 4,
 "nbformat_minor": 5
}
